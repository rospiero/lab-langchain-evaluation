{
 "cells": [
  {
   "cell_type": "markdown",
   "id": "1b00dae2-c271-4a69-a579-742e084a9058",
   "metadata": {},
   "source": [
    "# Lab | Langchain Evaluation\n",
    "\n",
    "## Intro\n",
    "\n",
    "Pick different sets of data and re-run this notebook. The point is for you to understand all steps involve and the many different ways one can and should evaluate LLM applications.\n",
    "\n",
    "What did you learn? - Let's discuss that in class"
   ]
  },
  {
   "cell_type": "markdown",
   "id": "52824b89-532a-4e54-87e9-1410813cd39e",
   "metadata": {},
   "source": [
    "## LangChain: Evaluation\n",
    "\n",
    "### Outline:\n",
    "\n",
    "* Example generation\n",
    "* Manual evaluation (and debuging)\n",
    "* LLM-assisted evaluation"
   ]
  },
  {
   "cell_type": "code",
   "execution_count": 4,
   "id": "b7ed03ed-1322-49e3-b2a2-33e94fb592ef",
   "metadata": {
    "height": 98,
    "tags": []
   },
   "outputs": [],
   "source": [
    "from dotenv import load_dotenv, find_dotenv\n",
    "import os\n",
    "load_dotenv(dotenv_path=\"ironhack/.env\")\n",
    "\n",
    "OPENAI_API_KEY  = os.getenv('OPENAI_API_KEY') "
   ]
  },
  {
   "cell_type": "code",
   "execution_count": 5,
   "id": "d2ebdda7",
   "metadata": {},
   "outputs": [],
   "source": [
    "#%pip install langchain-huggingface\n"
   ]
  },
  {
   "cell_type": "markdown",
   "id": "e7e29d2c-ba67-4cba-8ded-375fe040b9ba",
   "metadata": {},
   "source": [
    "### Example 1"
   ]
  },
  {
   "cell_type": "markdown",
   "id": "28008949",
   "metadata": {},
   "source": [
    "#### Create our QandA application"
   ]
  },
  {
   "cell_type": "code",
   "execution_count": 6,
   "id": "974acf8e-8f88-42de-88f8-40a82cb58e8b",
   "metadata": {
    "height": 115,
    "tags": []
   },
   "outputs": [],
   "source": [
    "\n",
    "from langchain.chains import RetrievalQA\n",
    "from langchain_openai import ChatOpenAI\n",
    "from langchain.llms import OpenAI\n",
    "from langchain_huggingface import HuggingFaceEmbeddings\n",
    "from langchain.document_loaders import CSVLoader, TextLoader\n",
    "from langchain.indexes import VectorstoreIndexCreator\n",
    "from langchain.vectorstores import DocArrayInMemorySearch\n",
    "from langchain.chains import LLMChain\n"
   ]
  },
  {
   "cell_type": "code",
   "execution_count": 7,
   "id": "b8f35e82",
   "metadata": {},
   "outputs": [],
   "source": [
    "from langchain_community.document_loaders import CSVLoader\n",
    "import os\n",
    "\n",
    "file = os.path.join(os.getcwd(), 'data', 'OutdoorClothingCatalog_1000.csv')\n",
    "loader = CSVLoader(\n",
    "    file_path=file,\n",
    "    csv_args={\"delimiter\": \",\"},\n",
    "    encoding='utf-8-sig'  # <-- aggiunto qui\n",
    ")\n",
    "data = loader.load()\n"
   ]
  },
  {
   "cell_type": "code",
   "execution_count": 8,
   "id": "550eb642-c223-4d78-8f92-0f265ef78b86",
   "metadata": {
    "tags": []
   },
   "outputs": [],
   "source": [
    "# !pip install --upgrade --force-reinstall sentence-transformers"
   ]
  },
  {
   "cell_type": "code",
   "execution_count": 9,
   "id": "b31c218f",
   "metadata": {
    "height": 64,
    "tags": []
   },
   "outputs": [
    {
     "name": "stdout",
     "output_type": "stream",
     "text": [
      "WARNING:tensorflow:From C:\\Users\\rospi\\AppData\\Local\\Packages\\PythonSoftwareFoundation.Python.3.11_qbz5n2kfra8p0\\LocalCache\\local-packages\\Python311\\site-packages\\tf_keras\\src\\losses.py:2976: The name tf.losses.sparse_softmax_cross_entropy is deprecated. Please use tf.compat.v1.losses.sparse_softmax_cross_entropy instead.\n",
      "\n"
     ]
    },
    {
     "name": "stderr",
     "output_type": "stream",
     "text": [
      "C:\\Users\\rospi\\AppData\\Local\\Packages\\PythonSoftwareFoundation.Python.3.11_qbz5n2kfra8p0\\LocalCache\\local-packages\\Python311\\site-packages\\pydantic\\_migration.py:283: UserWarning: `pydantic.error_wrappers:ValidationError` has been moved to `pydantic:ValidationError`.\n",
      "  warnings.warn(f'`{import_path}` has been moved to `{new_location}`.')\n"
     ]
    }
   ],
   "source": [
    "index = VectorstoreIndexCreator(\n",
    "    vectorstore_cls=DocArrayInMemorySearch,\n",
    "    embedding=HuggingFaceEmbeddings(model_name=\"all-MiniLM-L6-v2\", model_kwargs = {'device': 'cpu'})\n",
    ").from_loaders([loader])"
   ]
  },
  {
   "cell_type": "code",
   "execution_count": 10,
   "id": "a2006054",
   "metadata": {
    "height": 183,
    "tags": []
   },
   "outputs": [],
   "source": [
    "llm = ChatOpenAI(temperature = 0.0)\n",
    "qa = RetrievalQA.from_chain_type(\n",
    "    llm=llm, \n",
    "    chain_type=\"stuff\", \n",
    "    retriever=index.vectorstore.as_retriever(), \n",
    "    verbose=True,\n",
    "    chain_type_kwargs = {\n",
    "        \"document_separator\": \"<<<<>>>>>\"\n",
    "    }\n",
    ")"
   ]
  },
  {
   "cell_type": "markdown",
   "id": "791ebd73",
   "metadata": {},
   "source": [
    "#### Coming up with test datapoints"
   ]
  },
  {
   "cell_type": "code",
   "execution_count": 11,
   "id": "fb04a0f9",
   "metadata": {
    "height": 30,
    "tags": []
   },
   "outputs": [
    {
     "data": {
      "text/plain": [
       "Document(metadata={'source': 'c:\\\\Users\\\\rospi\\\\Desktop\\\\Ironhack\\\\lab-langchain-evaluation\\\\data\\\\OutdoorClothingCatalog_1000.csv', 'row': 10}, page_content=\": 10\\nname: Cozy Comfort Pullover Set, Stripe\\ndescription: Perfect for lounging, this striped knit set lives up to its name. We used ultrasoft fabric and an easy design that's as comfortable at bedtime as it is when we have to make a quick run out.\\r\\n\\r\\nSize & Fit\\r\\n- Pants are Favorite Fit: Sits lower on the waist.\\r\\n- Relaxed Fit: Our most generous fit sits farthest from the body.\\r\\n\\r\\nFabric & Care\\r\\n- In the softest blend of 63% polyester, 35% rayon and 2% spandex.\\r\\n\\r\\nAdditional Features\\r\\n- Relaxed fit top with raglan sleeves and rounded hem.\\r\\n- Pull-on pants have a wide elastic waistband and drawstring, side pockets and a modern slim leg.\\r\\n\\r\\nImported.\")"
      ]
     },
     "execution_count": 11,
     "metadata": {},
     "output_type": "execute_result"
    }
   ],
   "source": [
    "data[10]"
   ]
  },
  {
   "cell_type": "code",
   "execution_count": 12,
   "id": "fe4a88c2",
   "metadata": {
    "height": 30,
    "tags": []
   },
   "outputs": [
    {
     "data": {
      "text/plain": [
       "Document(metadata={'source': 'c:\\\\Users\\\\rospi\\\\Desktop\\\\Ironhack\\\\lab-langchain-evaluation\\\\data\\\\OutdoorClothingCatalog_1000.csv', 'row': 11}, page_content=': 11\\nname: Ultra-Lofty 850 Stretch Down Hooded Jacket\\ndescription: This technical stretch down jacket from our DownTek collection is sure to keep you warm and comfortable with its full-stretch construction providing exceptional range of motion. With a slightly fitted style that falls at the hip and best with a midweight layer, this jacket is suitable for light activity up to 20° and moderate activity up to -30°. The soft and durable 100% polyester shell offers complete windproof protection and is insulated with warm, lofty goose down. Other features include welded baffles for a no-stitch construction and excellent stretch, an adjustable hood, an interior media port and mesh stash pocket and a hem drawcord. Machine wash and dry. Imported.')"
      ]
     },
     "execution_count": 12,
     "metadata": {},
     "output_type": "execute_result"
    }
   ],
   "source": [
    "data[11]"
   ]
  },
  {
   "cell_type": "markdown",
   "id": "8d548aef",
   "metadata": {},
   "source": [
    "#### Hard-coded examples"
   ]
  },
  {
   "cell_type": "code",
   "execution_count": 13,
   "id": "106fbd91-f7bc-4d6b-b090-54b6a485ce39",
   "metadata": {
    "tags": []
   },
   "outputs": [],
   "source": [
    "from langchain.prompts import PromptTemplate"
   ]
  },
  {
   "cell_type": "code",
   "execution_count": 14,
   "id": "0c5d5af6-36db-4421-b635-46384e677847",
   "metadata": {
    "tags": []
   },
   "outputs": [
    {
     "name": "stderr",
     "output_type": "stream",
     "text": [
      "C:\\Users\\rospi\\AppData\\Local\\Temp\\ipykernel_22520\\1856079041.py:46: LangChainDeprecationWarning: The class `LLMChain` was deprecated in LangChain 0.1.17 and will be removed in 1.0. Use :meth:`~RunnableSequence, e.g., `prompt | llm`` instead.\n",
      "  llm_chain = LLMChain(\n",
      "C:\\Users\\rospi\\AppData\\Local\\Temp\\ipykernel_22520\\1856079041.py:56: LangChainDeprecationWarning: The method `Chain.run` was deprecated in langchain 0.1.0 and will be removed in 1.0. Use :meth:`~invoke` instead.\n",
      "  result = llm_chain.run({\"query\": query})\n"
     ]
    },
    {
     "name": "stdout",
     "output_type": "stream",
     "text": [
      "answer='Yes, it is available in five different colors: black, grey, navy, pink, and purple.'\n"
     ]
    }
   ],
   "source": [
    "from langchain.prompts import PromptTemplate\n",
    "from langchain.schema import BaseOutputParser\n",
    "from pydantic import BaseModel, Field\n",
    "\n",
    "examples = [\n",
    "    {\n",
    "        \"query\": \"Do the Cozy Comfort Pullover Set\\\n",
    "        have side pockets?\",\n",
    "        \"answer\": \"Yes\"\n",
    "    },\n",
    "    {\n",
    "        \"query\": \"What collection is the Ultra-Lofty \\\n",
    "        850 Stretch Down Hooded Jacket from?\",\n",
    "        \"answer\": \"The DownTek collection\"\n",
    "    }\n",
    "]\n",
    "\n",
    "# Define the prompt template\n",
    "prompt_template = PromptTemplate(\n",
    "    input_variables=[\"query\"],\n",
    "    template=\"Examples:\\n\"\n",
    "             \"1. Query: Do the Cozy Comfort Pullover Set have side pockets?\\n\"\n",
    "             \"   Answer: Yes\\n\"\n",
    "             \"2. Query: What collection is the Ultra-Lofty 850 Stretch Down Hooded Jacket from?\\n\"\n",
    "             \"   Answer: The DownTek collection\\n\"\n",
    "             \"Query: {query}\\n\"\n",
    "             \"Answer:\"\n",
    ")\n",
    "\n",
    "# Define the output model\n",
    "class Answer(BaseModel):\n",
    "    answer: str = Field(description=\"The answer to the query\")\n",
    "\n",
    "# Create the output parser\n",
    "class AnswerOutputParser(BaseOutputParser):\n",
    "    def parse(self, text: str) -> Answer:\n",
    "        # Split the response to get the answer\n",
    "        answer = text.strip().split(\"Answer:\")[-1].strip()\n",
    "        return Answer(answer=answer)\n",
    "\n",
    "# Initialize the LLM\n",
    "# llm = OpenAI()\n",
    "llm = ChatOpenAI()\n",
    "\n",
    "# Create the LLMChain\n",
    "llm_chain = LLMChain(\n",
    "    llm=llm,\n",
    "    prompt=prompt_template,\n",
    "    output_parser=AnswerOutputParser()\n",
    ")\n",
    "\n",
    "# Example query\n",
    "query = \"Is the Cozy Comfort Pullover Set available in different colors?\"\n",
    "\n",
    "# Run the chain\n",
    "result = llm_chain.run({\"query\": query})\n",
    "\n",
    "# Print the result\n",
    "print(result)\n"
   ]
  },
  {
   "cell_type": "markdown",
   "id": "c7ce3e4f",
   "metadata": {},
   "source": [
    "#### LLM-Generated examples"
   ]
  },
  {
   "cell_type": "code",
   "execution_count": 15,
   "id": "d44f8376",
   "metadata": {
    "height": 64,
    "tags": []
   },
   "outputs": [],
   "source": [
    "from langchain.evaluation.qa import QAGenerateChain"
   ]
  },
  {
   "cell_type": "code",
   "execution_count": 16,
   "id": "34e87816",
   "metadata": {
    "height": 47,
    "tags": []
   },
   "outputs": [],
   "source": [
    "example_gen_chain = QAGenerateChain.from_llm(ChatOpenAI())"
   ]
  },
  {
   "cell_type": "code",
   "execution_count": 17,
   "id": "acb34772-368f-4b5e-b4bd-da9b637cc7e8",
   "metadata": {},
   "outputs": [],
   "source": [
    "llm_chain = LLMChain(llm=llm, prompt=prompt_template)"
   ]
  },
  {
   "cell_type": "code",
   "execution_count": 18,
   "id": "62abae09",
   "metadata": {
    "height": 64,
    "tags": []
   },
   "outputs": [
    {
     "name": "stderr",
     "output_type": "stream",
     "text": [
      "C:\\Users\\rospi\\AppData\\Local\\Packages\\PythonSoftwareFoundation.Python.3.11_qbz5n2kfra8p0\\LocalCache\\local-packages\\Python311\\site-packages\\langchain\\chains\\llm.py:370: UserWarning: The apply_and_parse method is deprecated, instead pass an output parser directly to LLMChain.\n",
      "  warnings.warn(\n"
     ]
    }
   ],
   "source": [
    "new_examples = example_gen_chain.apply_and_parse(\n",
    "    [{\"doc\": t} for t in data[:5]]\n",
    ")"
   ]
  },
  {
   "cell_type": "code",
   "execution_count": 19,
   "id": "97ab28b5",
   "metadata": {
    "height": 30,
    "tags": []
   },
   "outputs": [
    {
     "data": {
      "text/plain": [
       "{'qa_pairs': {'query': \"What are some key features of the Women's Campside Oxfords as described in the document?\",\n",
       "  'answer': \"The Women's Campside Oxfords are made of soft canvas material for a broken-in feel and look. They feature a comfortable EVA innersole with Cleansport NXT® antimicrobial odor control, a vintage hunt, fish, and camping motif on the innersole, a moderate arch contour, an EVA foam midsole for cushioning and support, and a chain-tread-inspired molded rubber outsole with a modified chain-tread pattern. The approximate weight of the shoes is 1 lb. 1 oz. per pair.\"}}"
      ]
     },
     "execution_count": 19,
     "metadata": {},
     "output_type": "execute_result"
    }
   ],
   "source": [
    "new_examples[0]"
   ]
  },
  {
   "cell_type": "code",
   "execution_count": 20,
   "id": "0ebe4228",
   "metadata": {
    "height": 30,
    "tags": []
   },
   "outputs": [
    {
     "data": {
      "text/plain": [
       "Document(metadata={'source': 'c:\\\\Users\\\\rospi\\\\Desktop\\\\Ironhack\\\\lab-langchain-evaluation\\\\data\\\\OutdoorClothingCatalog_1000.csv', 'row': 0}, page_content=\": 0\\nname: Women's Campside Oxfords\\ndescription: This ultracomfortable lace-to-toe Oxford boasts a super-soft canvas, thick cushioning, and quality construction for a broken-in feel from the first time you put them on. \\r\\n\\r\\nSize & Fit: Order regular shoe size. For half sizes not offered, order up to next whole size. \\r\\n\\r\\nSpecs: Approx. weight: 1 lb.1 oz. per pair. \\r\\n\\r\\nConstruction: Soft canvas material for a broken-in feel and look. Comfortable EVA innersole with Cleansport NXT® antimicrobial odor control. Vintage hunt, fish and camping motif on innersole. Moderate arch contour of innersole. EVA foam midsole for cushioning and support. Chain-tread-inspired molded rubber outsole with modified chain-tread pattern. Imported. \\r\\n\\r\\nQuestions? Please contact us for any inquiries.\")"
      ]
     },
     "execution_count": 20,
     "metadata": {},
     "output_type": "execute_result"
    }
   ],
   "source": [
    "data[0]"
   ]
  },
  {
   "cell_type": "code",
   "execution_count": 21,
   "id": "7693fe86-feeb-4d73-b400-e66e79315274",
   "metadata": {
    "tags": []
   },
   "outputs": [
    {
     "data": {
      "text/plain": [
       "[{'query': \"What are some key features of the Women's Campside Oxfords as described in the document?\",\n",
       "  'answer': \"The Women's Campside Oxfords are made of soft canvas material for a broken-in feel and look. They feature a comfortable EVA innersole with Cleansport NXT® antimicrobial odor control, a vintage hunt, fish, and camping motif on the innersole, a moderate arch contour, an EVA foam midsole for cushioning and support, and a chain-tread-inspired molded rubber outsole with a modified chain-tread pattern. The approximate weight of the shoes is 1 lb. 1 oz. per pair.\"},\n",
       " {'query': 'Where is the Recycled Waterhog dog mat made?',\n",
       "  'answer': 'The Recycled Waterhog dog mat is made in the USA.'},\n",
       " {'query': \"What features does the Infant and Toddler Girls' Coastal Chill Swimsuit, Two-Piece offer?\",\n",
       "  'answer': \"The toddler's two-piece swimsuit features bright colors, ruffles, exclusive whimsical prints, four-way-stretch and chlorine-resistant fabric, UPF 50+ rated fabric for sun protection, crossover no-slip straps, fully lined bottom for secure fit and maximum coverage. It is recommended to machine wash and line dry for best results.\"},\n",
       " {'query': 'What is the fabric composition of the Refresh Swimwear V-Neck Tankini Contrasts top?',\n",
       "  'answer': 'The body of the tankini is made of 82% recycled nylon and 18% Lycra® spandex, while the lining is made of 90% recycled nylon and 10% Lycra® spandex.'},\n",
       " {'query': 'What technology makes the EcoFlex 3L Storm Pants more breathable and comfortable according to the document?',\n",
       "  'answer': 'The EcoFlex 3L Storm Pants utilize TEK O2 technology, which offers the most breathability ever tested by the manufacturer.'}]"
      ]
     },
     "execution_count": 21,
     "metadata": {},
     "output_type": "execute_result"
    }
   ],
   "source": [
    "d_flattened = [data['qa_pairs'] for data in new_examples]\n",
    "d_flattened"
   ]
  },
  {
   "cell_type": "markdown",
   "id": "faf25f2f",
   "metadata": {},
   "source": [
    "#### Combine examples"
   ]
  },
  {
   "cell_type": "code",
   "execution_count": 22,
   "id": "ada2a3fc",
   "metadata": {
    "height": 30,
    "tags": []
   },
   "outputs": [],
   "source": [
    "# examples += new_example\n",
    "examples += d_flattened"
   ]
  },
  {
   "cell_type": "code",
   "execution_count": 23,
   "id": "2184b9d7-22ab-43a5-9ba5-b27fef024874",
   "metadata": {
    "tags": []
   },
   "outputs": [
    {
     "data": {
      "text/plain": [
       "{'query': 'Do the Cozy Comfort Pullover Set        have side pockets?',\n",
       " 'answer': 'Yes'}"
      ]
     },
     "execution_count": 23,
     "metadata": {},
     "output_type": "execute_result"
    }
   ],
   "source": [
    "examples[0]"
   ]
  },
  {
   "cell_type": "code",
   "execution_count": 24,
   "id": "9cdf5cf5",
   "metadata": {
    "height": 30,
    "tags": []
   },
   "outputs": [
    {
     "name": "stdout",
     "output_type": "stream",
     "text": [
      "\n",
      "\n",
      "\u001b[1m> Entering new RetrievalQA chain...\u001b[0m\n",
      "\n",
      "\u001b[1m> Finished chain.\u001b[0m\n"
     ]
    },
    {
     "data": {
      "text/plain": [
       "{'query': 'Do the Cozy Comfort Pullover Set        have side pockets?',\n",
       " 'result': 'Based on the provided context, the Cozy Comfort Pullover Set does not have side pockets. It has side seam pockets, a back zip pocket, two elastic mesh water bottle pockets, and a top compartment with a pocket with a double-seal zipper for quick access.'}"
      ]
     },
     "execution_count": 24,
     "metadata": {},
     "output_type": "execute_result"
    }
   ],
   "source": [
    "qa.invoke(examples[0][\"query\"])"
   ]
  },
  {
   "cell_type": "markdown",
   "id": "63f3cb08",
   "metadata": {},
   "source": [
    "### Manual Evaluation - Fun part"
   ]
  },
  {
   "cell_type": "code",
   "execution_count": 25,
   "id": "fcaf622e",
   "metadata": {
    "height": 47,
    "tags": []
   },
   "outputs": [],
   "source": [
    "import langchain\n",
    "langchain.debug = True"
   ]
  },
  {
   "cell_type": "code",
   "execution_count": 26,
   "id": "8a142638",
   "metadata": {
    "height": 30,
    "tags": []
   },
   "outputs": [
    {
     "name": "stdout",
     "output_type": "stream",
     "text": [
      "\u001b[32;1m\u001b[1;3m[chain/start]\u001b[0m \u001b[1m[chain:RetrievalQA] Entering Chain run with input:\n",
      "\u001b[0m{\n",
      "  \"query\": \"Do the Cozy Comfort Pullover Set        have side pockets?\"\n",
      "}\n",
      "\u001b[32;1m\u001b[1;3m[chain/start]\u001b[0m \u001b[1m[chain:RetrievalQA > chain:StuffDocumentsChain] Entering Chain run with input:\n",
      "\u001b[0m[inputs]\n",
      "\u001b[32;1m\u001b[1;3m[chain/start]\u001b[0m \u001b[1m[chain:RetrievalQA > chain:StuffDocumentsChain > chain:LLMChain] Entering Chain run with input:\n",
      "\u001b[0m{\n",
      "  \"question\": \"Do the Cozy Comfort Pullover Set        have side pockets?\",\n",
      "  \"context\": \"Side seam pockets and back zip pocket, with mesh insert for quick drainage.<<<<>>>>>Two elastic mesh water bottle pockets.\\r\\nTop compartment includes pocket with double-seal zipper for quick access.\\r\\nSide<<<<>>>>>All pockets have sturdy pocket bags and offer plenty of room for a wallet, cell phone and more.\\r\\n\\r\\nGusseted crotch for ease of movement.\\r\\n\\r\\nImported.<<<<>>>>>Two elastic mesh water bottle pockets.\\r\\nTop compartment includes pocket with double-se\"\n",
      "}\n",
      "\u001b[32;1m\u001b[1;3m[llm/start]\u001b[0m \u001b[1m[chain:RetrievalQA > chain:StuffDocumentsChain > chain:LLMChain > llm:ChatOpenAI] Entering LLM run with input:\n",
      "\u001b[0m{\n",
      "  \"prompts\": [\n",
      "    \"System: Use the following pieces of context to answer the user's question. \\nIf you don't know the answer, just say that you don't know, don't try to make up an answer.\\n----------------\\nSide seam pockets and back zip pocket, with mesh insert for quick drainage.<<<<>>>>>Two elastic mesh water bottle pockets.\\r\\nTop compartment includes pocket with double-seal zipper for quick access.\\r\\nSide<<<<>>>>>All pockets have sturdy pocket bags and offer plenty of room for a wallet, cell phone and more.\\r\\n\\r\\nGusseted crotch for ease of movement.\\r\\n\\r\\nImported.<<<<>>>>>Two elastic mesh water bottle pockets.\\r\\nTop compartment includes pocket with double-se\\nHuman: Do the Cozy Comfort Pullover Set        have side pockets?\"\n",
      "  ]\n",
      "}\n",
      "\u001b[36;1m\u001b[1;3m[llm/end]\u001b[0m \u001b[1m[chain:RetrievalQA > chain:StuffDocumentsChain > chain:LLMChain > llm:ChatOpenAI] [939ms] Exiting LLM run with output:\n",
      "\u001b[0m{\n",
      "  \"generations\": [\n",
      "    [\n",
      "      {\n",
      "        \"text\": \"Based on the provided context, the Cozy Comfort Pullover Set does not have side pockets. It has side seam pockets, a back zip pocket, two elastic mesh water bottle pockets, and a top compartment with a pocket with a double-seal zipper for quick access.\",\n",
      "        \"generation_info\": {\n",
      "          \"finish_reason\": \"stop\",\n",
      "          \"logprobs\": null\n",
      "        },\n",
      "        \"type\": \"ChatGeneration\",\n",
      "        \"message\": {\n",
      "          \"lc\": 1,\n",
      "          \"type\": \"constructor\",\n",
      "          \"id\": [\n",
      "            \"langchain\",\n",
      "            \"schema\",\n",
      "            \"messages\",\n",
      "            \"AIMessage\"\n",
      "          ],\n",
      "          \"kwargs\": {\n",
      "            \"content\": \"Based on the provided context, the Cozy Comfort Pullover Set does not have side pockets. It has side seam pockets, a back zip pocket, two elastic mesh water bottle pockets, and a top compartment with a pocket with a double-seal zipper for quick access.\",\n",
      "            \"additional_kwargs\": {\n",
      "              \"refusal\": null\n",
      "            },\n",
      "            \"response_metadata\": {\n",
      "              \"token_usage\": {\n",
      "                \"completion_tokens\": 54,\n",
      "                \"prompt_tokens\": 158,\n",
      "                \"total_tokens\": 212,\n",
      "                \"completion_tokens_details\": {\n",
      "                  \"accepted_prediction_tokens\": 0,\n",
      "                  \"audio_tokens\": 0,\n",
      "                  \"reasoning_tokens\": 0,\n",
      "                  \"rejected_prediction_tokens\": 0\n",
      "                },\n",
      "                \"prompt_tokens_details\": {\n",
      "                  \"audio_tokens\": 0,\n",
      "                  \"cached_tokens\": 0\n",
      "                }\n",
      "              },\n",
      "              \"model_name\": \"gpt-3.5-turbo-0125\",\n",
      "              \"system_fingerprint\": null,\n",
      "              \"id\": \"chatcmpl-BlujXtoQyB68viEZ7p3YQqJCTgsWh\",\n",
      "              \"service_tier\": \"default\",\n",
      "              \"finish_reason\": \"stop\",\n",
      "              \"logprobs\": null\n",
      "            },\n",
      "            \"type\": \"ai\",\n",
      "            \"id\": \"run--1022a154-a3fa-4b1c-9d16-81ef1664365d-0\",\n",
      "            \"usage_metadata\": {\n",
      "              \"input_tokens\": 158,\n",
      "              \"output_tokens\": 54,\n",
      "              \"total_tokens\": 212,\n",
      "              \"input_token_details\": {\n",
      "                \"audio\": 0,\n",
      "                \"cache_read\": 0\n",
      "              },\n",
      "              \"output_token_details\": {\n",
      "                \"audio\": 0,\n",
      "                \"reasoning\": 0\n",
      "              }\n",
      "            },\n",
      "            \"tool_calls\": [],\n",
      "            \"invalid_tool_calls\": []\n",
      "          }\n",
      "        }\n",
      "      }\n",
      "    ]\n",
      "  ],\n",
      "  \"llm_output\": {\n",
      "    \"token_usage\": {\n",
      "      \"completion_tokens\": 54,\n",
      "      \"prompt_tokens\": 158,\n",
      "      \"total_tokens\": 212,\n",
      "      \"completion_tokens_details\": {\n",
      "        \"accepted_prediction_tokens\": 0,\n",
      "        \"audio_tokens\": 0,\n",
      "        \"reasoning_tokens\": 0,\n",
      "        \"rejected_prediction_tokens\": 0\n",
      "      },\n",
      "      \"prompt_tokens_details\": {\n",
      "        \"audio_tokens\": 0,\n",
      "        \"cached_tokens\": 0\n",
      "      }\n",
      "    },\n",
      "    \"model_name\": \"gpt-3.5-turbo-0125\",\n",
      "    \"system_fingerprint\": null,\n",
      "    \"id\": \"chatcmpl-BlujXtoQyB68viEZ7p3YQqJCTgsWh\",\n",
      "    \"service_tier\": \"default\"\n",
      "  },\n",
      "  \"run\": null,\n",
      "  \"type\": \"LLMResult\"\n",
      "}\n",
      "\u001b[36;1m\u001b[1;3m[chain/end]\u001b[0m \u001b[1m[chain:RetrievalQA > chain:StuffDocumentsChain > chain:LLMChain] [940ms] Exiting Chain run with output:\n",
      "\u001b[0m{\n",
      "  \"text\": \"Based on the provided context, the Cozy Comfort Pullover Set does not have side pockets. It has side seam pockets, a back zip pocket, two elastic mesh water bottle pockets, and a top compartment with a pocket with a double-seal zipper for quick access.\"\n",
      "}\n",
      "\u001b[36;1m\u001b[1;3m[chain/end]\u001b[0m \u001b[1m[chain:RetrievalQA > chain:StuffDocumentsChain] [943ms] Exiting Chain run with output:\n",
      "\u001b[0m{\n",
      "  \"output_text\": \"Based on the provided context, the Cozy Comfort Pullover Set does not have side pockets. It has side seam pockets, a back zip pocket, two elastic mesh water bottle pockets, and a top compartment with a pocket with a double-seal zipper for quick access.\"\n",
      "}\n",
      "\u001b[36;1m\u001b[1;3m[chain/end]\u001b[0m \u001b[1m[chain:RetrievalQA] [980ms] Exiting Chain run with output:\n",
      "\u001b[0m{\n",
      "  \"result\": \"Based on the provided context, the Cozy Comfort Pullover Set does not have side pockets. It has side seam pockets, a back zip pocket, two elastic mesh water bottle pockets, and a top compartment with a pocket with a double-seal zipper for quick access.\"\n",
      "}\n"
     ]
    },
    {
     "data": {
      "text/plain": [
       "{'query': 'Do the Cozy Comfort Pullover Set        have side pockets?',\n",
       " 'result': 'Based on the provided context, the Cozy Comfort Pullover Set does not have side pockets. It has side seam pockets, a back zip pocket, two elastic mesh water bottle pockets, and a top compartment with a pocket with a double-seal zipper for quick access.'}"
      ]
     },
     "execution_count": 26,
     "metadata": {},
     "output_type": "execute_result"
    }
   ],
   "source": [
    "qa.invoke(examples[0][\"query\"])"
   ]
  },
  {
   "cell_type": "code",
   "execution_count": 27,
   "id": "b3d6bef0",
   "metadata": {
    "height": 47,
    "tags": []
   },
   "outputs": [],
   "source": [
    "# Turn off the debug mode\n",
    "langchain.debug = False"
   ]
  },
  {
   "cell_type": "markdown",
   "id": "d5bdbdce",
   "metadata": {},
   "source": [
    "### LLM assisted evaluation"
   ]
  },
  {
   "cell_type": "code",
   "execution_count": 28,
   "id": "a54769b0-3daf-4cac-b259-89a10dd9b5a2",
   "metadata": {
    "tags": []
   },
   "outputs": [],
   "source": [
    "examples += d_flattened"
   ]
  },
  {
   "cell_type": "code",
   "execution_count": 29,
   "id": "8ea95385-1b4c-440a-9fea-8500b4cc2154",
   "metadata": {
    "tags": []
   },
   "outputs": [
    {
     "data": {
      "text/plain": [
       "[{'query': 'Do the Cozy Comfort Pullover Set        have side pockets?',\n",
       "  'answer': 'Yes'},\n",
       " {'query': 'What collection is the Ultra-Lofty         850 Stretch Down Hooded Jacket from?',\n",
       "  'answer': 'The DownTek collection'},\n",
       " {'query': \"What are some key features of the Women's Campside Oxfords as described in the document?\",\n",
       "  'answer': \"The Women's Campside Oxfords are made of soft canvas material for a broken-in feel and look. They feature a comfortable EVA innersole with Cleansport NXT® antimicrobial odor control, a vintage hunt, fish, and camping motif on the innersole, a moderate arch contour, an EVA foam midsole for cushioning and support, and a chain-tread-inspired molded rubber outsole with a modified chain-tread pattern. The approximate weight of the shoes is 1 lb. 1 oz. per pair.\"},\n",
       " {'query': 'Where is the Recycled Waterhog dog mat made?',\n",
       "  'answer': 'The Recycled Waterhog dog mat is made in the USA.'},\n",
       " {'query': \"What features does the Infant and Toddler Girls' Coastal Chill Swimsuit, Two-Piece offer?\",\n",
       "  'answer': \"The toddler's two-piece swimsuit features bright colors, ruffles, exclusive whimsical prints, four-way-stretch and chlorine-resistant fabric, UPF 50+ rated fabric for sun protection, crossover no-slip straps, fully lined bottom for secure fit and maximum coverage. It is recommended to machine wash and line dry for best results.\"},\n",
       " {'query': 'What is the fabric composition of the Refresh Swimwear V-Neck Tankini Contrasts top?',\n",
       "  'answer': 'The body of the tankini is made of 82% recycled nylon and 18% Lycra® spandex, while the lining is made of 90% recycled nylon and 10% Lycra® spandex.'},\n",
       " {'query': 'What technology makes the EcoFlex 3L Storm Pants more breathable and comfortable according to the document?',\n",
       "  'answer': 'The EcoFlex 3L Storm Pants utilize TEK O2 technology, which offers the most breathability ever tested by the manufacturer.'},\n",
       " {'query': \"What are some key features of the Women's Campside Oxfords as described in the document?\",\n",
       "  'answer': \"The Women's Campside Oxfords are made of soft canvas material for a broken-in feel and look. They feature a comfortable EVA innersole with Cleansport NXT® antimicrobial odor control, a vintage hunt, fish, and camping motif on the innersole, a moderate arch contour, an EVA foam midsole for cushioning and support, and a chain-tread-inspired molded rubber outsole with a modified chain-tread pattern. The approximate weight of the shoes is 1 lb. 1 oz. per pair.\"},\n",
       " {'query': 'Where is the Recycled Waterhog dog mat made?',\n",
       "  'answer': 'The Recycled Waterhog dog mat is made in the USA.'},\n",
       " {'query': \"What features does the Infant and Toddler Girls' Coastal Chill Swimsuit, Two-Piece offer?\",\n",
       "  'answer': \"The toddler's two-piece swimsuit features bright colors, ruffles, exclusive whimsical prints, four-way-stretch and chlorine-resistant fabric, UPF 50+ rated fabric for sun protection, crossover no-slip straps, fully lined bottom for secure fit and maximum coverage. It is recommended to machine wash and line dry for best results.\"},\n",
       " {'query': 'What is the fabric composition of the Refresh Swimwear V-Neck Tankini Contrasts top?',\n",
       "  'answer': 'The body of the tankini is made of 82% recycled nylon and 18% Lycra® spandex, while the lining is made of 90% recycled nylon and 10% Lycra® spandex.'},\n",
       " {'query': 'What technology makes the EcoFlex 3L Storm Pants more breathable and comfortable according to the document?',\n",
       "  'answer': 'The EcoFlex 3L Storm Pants utilize TEK O2 technology, which offers the most breathability ever tested by the manufacturer.'}]"
      ]
     },
     "execution_count": 29,
     "metadata": {},
     "output_type": "execute_result"
    }
   ],
   "source": [
    "examples"
   ]
  },
  {
   "cell_type": "code",
   "execution_count": 30,
   "id": "a4dca05a",
   "metadata": {
    "height": 30,
    "tags": []
   },
   "outputs": [
    {
     "name": "stdout",
     "output_type": "stream",
     "text": [
      "\n",
      "\n",
      "\u001b[1m> Entering new RetrievalQA chain...\u001b[0m\n",
      "\n",
      "\n",
      "\u001b[1m> Entering new RetrievalQA chain...\u001b[0m\n",
      "\n",
      "\n",
      "\u001b[1m> Entering new RetrievalQA chain...\u001b[0m\n",
      "\n",
      "\n",
      "\u001b[1m> Entering new RetrievalQA chain...\u001b[0m\n",
      "\n",
      "\n",
      "\u001b[1m> Entering new RetrievalQA chain...\u001b[0m\n",
      "\n",
      "\n",
      "\u001b[1m> Entering new RetrievalQA chain...\u001b[0m\n",
      "\n",
      "\n",
      "\u001b[1m> Entering new RetrievalQA chain...\u001b[0m\n",
      "\n",
      "\n",
      "\u001b[1m> Entering new RetrievalQA chain...\u001b[0m\n",
      "\n",
      "\n",
      "\u001b[1m> Entering new RetrievalQA chain...\u001b[0m\n",
      "\n",
      "\n",
      "\u001b[1m> Entering new RetrievalQA chain...\u001b[0m\n",
      "\n",
      "\n",
      "\u001b[1m> Entering new RetrievalQA chain...\u001b[0m\n",
      "\n",
      "\n",
      "\u001b[1m> Entering new RetrievalQA chain...\u001b[0m\n",
      "\n",
      "\u001b[1m> Finished chain.\u001b[0m\n",
      "\n",
      "\u001b[1m> Finished chain.\u001b[0m\n",
      "\n",
      "\u001b[1m> Finished chain.\u001b[0m\n",
      "\n",
      "\u001b[1m> Finished chain.\u001b[0m\n",
      "\n",
      "\u001b[1m> Finished chain.\u001b[0m\n",
      "\n",
      "\u001b[1m> Finished chain.\u001b[0m\n",
      "\n",
      "\u001b[1m> Finished chain.\u001b[0m\n",
      "\n",
      "\u001b[1m> Finished chain.\u001b[0m\n",
      "\n",
      "\u001b[1m> Finished chain.\u001b[0m\n",
      "\n",
      "\u001b[1m> Finished chain.\u001b[0m\n",
      "\n",
      "\u001b[1m> Finished chain.\u001b[0m\n",
      "\n",
      "\u001b[1m> Finished chain.\u001b[0m\n"
     ]
    }
   ],
   "source": [
    "predictions = qa.batch(examples)"
   ]
  },
  {
   "cell_type": "code",
   "execution_count": 31,
   "id": "ae7e8b4e-4468-4048-8544-c9936704ea93",
   "metadata": {
    "tags": []
   },
   "outputs": [
    {
     "data": {
      "text/plain": [
       "[{'query': 'Do the Cozy Comfort Pullover Set        have side pockets?',\n",
       "  'answer': 'Yes',\n",
       "  'result': 'Yes, the Cozy Comfort Pullover Set has side seam pockets and a back zip pocket, as well as two elastic mesh water bottle pockets.'},\n",
       " {'query': 'What collection is the Ultra-Lofty         850 Stretch Down Hooded Jacket from?',\n",
       "  'answer': 'The DownTek collection',\n",
       "  'result': 'The Ultra-Lofty 850 Stretch Down Hooded Jacket is from the DownTek collection.'},\n",
       " {'query': \"What are some key features of the Women's Campside Oxfords as described in the document?\",\n",
       "  'answer': \"The Women's Campside Oxfords are made of soft canvas material for a broken-in feel and look. They feature a comfortable EVA innersole with Cleansport NXT® antimicrobial odor control, a vintage hunt, fish, and camping motif on the innersole, a moderate arch contour, an EVA foam midsole for cushioning and support, and a chain-tread-inspired molded rubber outsole with a modified chain-tread pattern. The approximate weight of the shoes is 1 lb. 1 oz. per pair.\",\n",
       "  'result': \"I'm sorry, but there is no information provided about the Women's Campside Oxfords in the given context.\"},\n",
       " {'query': 'Where is the Recycled Waterhog dog mat made?',\n",
       "  'answer': 'The Recycled Waterhog dog mat is made in the USA.',\n",
       "  'result': 'The Recycled Waterhog dog mat is made in the USA.'},\n",
       " {'query': \"What features does the Infant and Toddler Girls' Coastal Chill Swimsuit, Two-Piece offer?\",\n",
       "  'answer': \"The toddler's two-piece swimsuit features bright colors, ruffles, exclusive whimsical prints, four-way-stretch and chlorine-resistant fabric, UPF 50+ rated fabric for sun protection, crossover no-slip straps, fully lined bottom for secure fit and maximum coverage. It is recommended to machine wash and line dry for best results.\",\n",
       "  'result': \"The Infant and Toddler Girls' Coastal Chill Swimsuit, Two-Piece offers features such as bright colors, ruffles, exclusive whimsical prints, four-way-stretch and chlorine-resistant fabric, UPF 50+ rated sun protection, crossover no-slip straps, fully lined bottom for secure fit and maximum coverage. It is also machine washable and should be line dried for best results.\"},\n",
       " {'query': 'What is the fabric composition of the Refresh Swimwear V-Neck Tankini Contrasts top?',\n",
       "  'answer': 'The body of the tankini is made of 82% recycled nylon and 18% Lycra® spandex, while the lining is made of 90% recycled nylon and 10% Lycra® spandex.',\n",
       "  'result': 'The Refresh Swimwear V-Neck Tankini Contrasts top is made of 82% recycled nylon with 18% Lycra® spandex for the body, and 90% recycled nylon with 10% Lycra® spandex for the lining.'},\n",
       " {'query': 'What technology makes the EcoFlex 3L Storm Pants more breathable and comfortable according to the document?',\n",
       "  'answer': 'The EcoFlex 3L Storm Pants utilize TEK O2 technology, which offers the most breathability ever tested by the manufacturer.',\n",
       "  'result': 'The EcoFlex 3L Storm Pants are made with TEK O2 technology, which is stated to offer the most breathability ever tested. This technology allows air to permeate the fabric while keeping water out, keeping the wearer dry and comfortable during various outdoor activities.'},\n",
       " {'query': \"What are some key features of the Women's Campside Oxfords as described in the document?\",\n",
       "  'answer': \"The Women's Campside Oxfords are made of soft canvas material for a broken-in feel and look. They feature a comfortable EVA innersole with Cleansport NXT® antimicrobial odor control, a vintage hunt, fish, and camping motif on the innersole, a moderate arch contour, an EVA foam midsole for cushioning and support, and a chain-tread-inspired molded rubber outsole with a modified chain-tread pattern. The approximate weight of the shoes is 1 lb. 1 oz. per pair.\",\n",
       "  'result': \"I'm sorry, but there is no information provided about the Women's Campside Oxfords in the given context.\"},\n",
       " {'query': 'Where is the Recycled Waterhog dog mat made?',\n",
       "  'answer': 'The Recycled Waterhog dog mat is made in the USA.',\n",
       "  'result': 'The Recycled Waterhog dog mat is made in the USA.'},\n",
       " {'query': \"What features does the Infant and Toddler Girls' Coastal Chill Swimsuit, Two-Piece offer?\",\n",
       "  'answer': \"The toddler's two-piece swimsuit features bright colors, ruffles, exclusive whimsical prints, four-way-stretch and chlorine-resistant fabric, UPF 50+ rated fabric for sun protection, crossover no-slip straps, fully lined bottom for secure fit and maximum coverage. It is recommended to machine wash and line dry for best results.\",\n",
       "  'result': \"The Infant and Toddler Girls' Coastal Chill Swimsuit, Two-Piece offers features such as bright colors, ruffles, exclusive whimsical prints, four-way-stretch and chlorine-resistant fabric, UPF 50+ sun protection, crossover no-slip straps, fully lined bottom for secure fit and maximum coverage. It is also machine washable and should be line dried for best results.\"},\n",
       " {'query': 'What is the fabric composition of the Refresh Swimwear V-Neck Tankini Contrasts top?',\n",
       "  'answer': 'The body of the tankini is made of 82% recycled nylon and 18% Lycra® spandex, while the lining is made of 90% recycled nylon and 10% Lycra® spandex.',\n",
       "  'result': 'The Refresh Swimwear V-Neck Tankini Contrasts top is made of 82% recycled nylon with 18% Lycra® spandex for the body, and the lining is 90% recycled nylon with 10% Lycra® spandex.'},\n",
       " {'query': 'What technology makes the EcoFlex 3L Storm Pants more breathable and comfortable according to the document?',\n",
       "  'answer': 'The EcoFlex 3L Storm Pants utilize TEK O2 technology, which offers the most breathability ever tested by the manufacturer.',\n",
       "  'result': 'The EcoFlex 3L Storm Pants are made with TEK O2 technology, which is stated to offer the most breathability ever tested. This technology allows air to permeate the fabric while keeping water out, keeping the wearer dry and comfortable during various outdoor activities.'}]"
      ]
     },
     "execution_count": 31,
     "metadata": {},
     "output_type": "execute_result"
    }
   ],
   "source": [
    "predictions"
   ]
  },
  {
   "cell_type": "code",
   "execution_count": 32,
   "id": "6012a3e0",
   "metadata": {
    "height": 30,
    "tags": []
   },
   "outputs": [],
   "source": [
    "from langchain.evaluation.qa import QAEvalChain"
   ]
  },
  {
   "cell_type": "code",
   "execution_count": 33,
   "id": "724b1c0b",
   "metadata": {
    "height": 47,
    "tags": []
   },
   "outputs": [],
   "source": [
    "llm = ChatOpenAI(temperature=0)\n",
    "eval_chain = QAEvalChain.from_llm(llm)"
   ]
  },
  {
   "cell_type": "code",
   "execution_count": 34,
   "id": "8b46ae55",
   "metadata": {
    "height": 47,
    "tags": []
   },
   "outputs": [],
   "source": [
    "graded_outputs = eval_chain.evaluate(examples, predictions)"
   ]
  },
  {
   "cell_type": "code",
   "execution_count": 35,
   "id": "dc42eb35-c2d7-4581-8004-d315ade63eef",
   "metadata": {
    "tags": []
   },
   "outputs": [
    {
     "data": {
      "text/plain": [
       "[{'results': 'CORRECT'},\n",
       " {'results': 'CORRECT'},\n",
       " {'results': 'CORRECT'},\n",
       " {'results': 'CORRECT'},\n",
       " {'results': 'CORRECT'},\n",
       " {'results': 'CORRECT'},\n",
       " {'results': 'CORRECT'},\n",
       " {'results': 'CORRECT'},\n",
       " {'results': 'CORRECT'},\n",
       " {'results': 'CORRECT'},\n",
       " {'results': 'CORRECT'},\n",
       " {'results': 'CORRECT'}]"
      ]
     },
     "execution_count": 35,
     "metadata": {},
     "output_type": "execute_result"
    }
   ],
   "source": [
    "graded_outputs"
   ]
  },
  {
   "cell_type": "code",
   "execution_count": 36,
   "id": "3437cfbe",
   "metadata": {
    "height": 149,
    "tags": []
   },
   "outputs": [
    {
     "name": "stdout",
     "output_type": "stream",
     "text": [
      "Example 0:\n",
      "Question: Do the Cozy Comfort Pullover Set        have side pockets?\n",
      "Real Answer: Yes\n",
      "Predicted Answer: Yes, the Cozy Comfort Pullover Set has side seam pockets and a back zip pocket, as well as two elastic mesh water bottle pockets.\n",
      "\n",
      "Example 1:\n",
      "Question: What collection is the Ultra-Lofty         850 Stretch Down Hooded Jacket from?\n",
      "Real Answer: The DownTek collection\n",
      "Predicted Answer: The Ultra-Lofty 850 Stretch Down Hooded Jacket is from the DownTek collection.\n",
      "\n",
      "Example 2:\n",
      "Question: What are some key features of the Women's Campside Oxfords as described in the document?\n",
      "Real Answer: The Women's Campside Oxfords are made of soft canvas material for a broken-in feel and look. They feature a comfortable EVA innersole with Cleansport NXT® antimicrobial odor control, a vintage hunt, fish, and camping motif on the innersole, a moderate arch contour, an EVA foam midsole for cushioning and support, and a chain-tread-inspired molded rubber outsole with a modified chain-tread pattern. The approximate weight of the shoes is 1 lb. 1 oz. per pair.\n",
      "Predicted Answer: I'm sorry, but there is no information provided about the Women's Campside Oxfords in the given context.\n",
      "\n",
      "Example 3:\n",
      "Question: Where is the Recycled Waterhog dog mat made?\n",
      "Real Answer: The Recycled Waterhog dog mat is made in the USA.\n",
      "Predicted Answer: The Recycled Waterhog dog mat is made in the USA.\n",
      "\n",
      "Example 4:\n",
      "Question: What features does the Infant and Toddler Girls' Coastal Chill Swimsuit, Two-Piece offer?\n",
      "Real Answer: The toddler's two-piece swimsuit features bright colors, ruffles, exclusive whimsical prints, four-way-stretch and chlorine-resistant fabric, UPF 50+ rated fabric for sun protection, crossover no-slip straps, fully lined bottom for secure fit and maximum coverage. It is recommended to machine wash and line dry for best results.\n",
      "Predicted Answer: The Infant and Toddler Girls' Coastal Chill Swimsuit, Two-Piece offers features such as bright colors, ruffles, exclusive whimsical prints, four-way-stretch and chlorine-resistant fabric, UPF 50+ rated sun protection, crossover no-slip straps, fully lined bottom for secure fit and maximum coverage. It is also machine washable and should be line dried for best results.\n",
      "\n",
      "Example 5:\n",
      "Question: What is the fabric composition of the Refresh Swimwear V-Neck Tankini Contrasts top?\n",
      "Real Answer: The body of the tankini is made of 82% recycled nylon and 18% Lycra® spandex, while the lining is made of 90% recycled nylon and 10% Lycra® spandex.\n",
      "Predicted Answer: The Refresh Swimwear V-Neck Tankini Contrasts top is made of 82% recycled nylon with 18% Lycra® spandex for the body, and 90% recycled nylon with 10% Lycra® spandex for the lining.\n",
      "\n",
      "Example 6:\n",
      "Question: What technology makes the EcoFlex 3L Storm Pants more breathable and comfortable according to the document?\n",
      "Real Answer: The EcoFlex 3L Storm Pants utilize TEK O2 technology, which offers the most breathability ever tested by the manufacturer.\n",
      "Predicted Answer: The EcoFlex 3L Storm Pants are made with TEK O2 technology, which is stated to offer the most breathability ever tested. This technology allows air to permeate the fabric while keeping water out, keeping the wearer dry and comfortable during various outdoor activities.\n",
      "\n",
      "Example 7:\n",
      "Question: What are some key features of the Women's Campside Oxfords as described in the document?\n",
      "Real Answer: The Women's Campside Oxfords are made of soft canvas material for a broken-in feel and look. They feature a comfortable EVA innersole with Cleansport NXT® antimicrobial odor control, a vintage hunt, fish, and camping motif on the innersole, a moderate arch contour, an EVA foam midsole for cushioning and support, and a chain-tread-inspired molded rubber outsole with a modified chain-tread pattern. The approximate weight of the shoes is 1 lb. 1 oz. per pair.\n",
      "Predicted Answer: I'm sorry, but there is no information provided about the Women's Campside Oxfords in the given context.\n",
      "\n",
      "Example 8:\n",
      "Question: Where is the Recycled Waterhog dog mat made?\n",
      "Real Answer: The Recycled Waterhog dog mat is made in the USA.\n",
      "Predicted Answer: The Recycled Waterhog dog mat is made in the USA.\n",
      "\n",
      "Example 9:\n",
      "Question: What features does the Infant and Toddler Girls' Coastal Chill Swimsuit, Two-Piece offer?\n",
      "Real Answer: The toddler's two-piece swimsuit features bright colors, ruffles, exclusive whimsical prints, four-way-stretch and chlorine-resistant fabric, UPF 50+ rated fabric for sun protection, crossover no-slip straps, fully lined bottom for secure fit and maximum coverage. It is recommended to machine wash and line dry for best results.\n",
      "Predicted Answer: The Infant and Toddler Girls' Coastal Chill Swimsuit, Two-Piece offers features such as bright colors, ruffles, exclusive whimsical prints, four-way-stretch and chlorine-resistant fabric, UPF 50+ sun protection, crossover no-slip straps, fully lined bottom for secure fit and maximum coverage. It is also machine washable and should be line dried for best results.\n",
      "\n",
      "Example 10:\n",
      "Question: What is the fabric composition of the Refresh Swimwear V-Neck Tankini Contrasts top?\n",
      "Real Answer: The body of the tankini is made of 82% recycled nylon and 18% Lycra® spandex, while the lining is made of 90% recycled nylon and 10% Lycra® spandex.\n",
      "Predicted Answer: The Refresh Swimwear V-Neck Tankini Contrasts top is made of 82% recycled nylon with 18% Lycra® spandex for the body, and the lining is 90% recycled nylon with 10% Lycra® spandex.\n",
      "\n",
      "Example 11:\n",
      "Question: What technology makes the EcoFlex 3L Storm Pants more breathable and comfortable according to the document?\n",
      "Real Answer: The EcoFlex 3L Storm Pants utilize TEK O2 technology, which offers the most breathability ever tested by the manufacturer.\n",
      "Predicted Answer: The EcoFlex 3L Storm Pants are made with TEK O2 technology, which is stated to offer the most breathability ever tested. This technology allows air to permeate the fabric while keeping water out, keeping the wearer dry and comfortable during various outdoor activities.\n",
      "\n"
     ]
    }
   ],
   "source": [
    "for i, eg in enumerate(examples):\n",
    "    print(f\"Example {i}:\")\n",
    "    print(\"Question: \" + predictions[i]['query'])\n",
    "    print(\"Real Answer: \" + predictions[i]['answer'])\n",
    "    print(\"Predicted Answer: \" + predictions[i]['result'])\n",
    "    # print(\"Predicted Grade: \" + graded_outputs[i]['text'])\n",
    "    print()"
   ]
  },
  {
   "cell_type": "markdown",
   "id": "721d127a-a9e3-465d-a8ae-0e2c4b4a2659",
   "metadata": {},
   "source": [
    "### Example 2\n",
    "One can also easily evaluate your QA chains with the metrics offered in ragas"
   ]
  },
  {
   "cell_type": "code",
   "execution_count": 18,
   "id": "32cc57bf",
   "metadata": {},
   "outputs": [],
   "source": [
    "\n",
    "from langchain_community.document_loaders import CSVLoader\n",
    "import os\n",
    "\n",
    "file = os.path.join(os.getcwd(), 'data', 'nyc_text.txt')\n",
    "loader = CSVLoader(\n",
    "    file_path=file,\n",
    "    csv_args={\"delimiter\": \",\"},\n",
    "    encoding='utf-8-sig'  # <-- aggiunto qui\n",
    ")\n",
    "data = loader.load()"
   ]
  },
  {
   "cell_type": "code",
   "execution_count": 19,
   "id": "a5ef0493-34ff-4801-b405-69c76ce86c38",
   "metadata": {
    "tags": []
   },
   "outputs": [
    {
     "name": "stdout",
     "output_type": "stream",
     "text": [
      "WARNING:tensorflow:From C:\\Users\\rospi\\AppData\\Local\\Packages\\PythonSoftwareFoundation.Python.3.11_qbz5n2kfra8p0\\LocalCache\\local-packages\\Python311\\site-packages\\tf_keras\\src\\losses.py:2976: The name tf.losses.sparse_softmax_cross_entropy is deprecated. Please use tf.compat.v1.losses.sparse_softmax_cross_entropy instead.\n",
      "\n"
     ]
    },
    {
     "name": "stderr",
     "output_type": "stream",
     "text": [
      "C:\\Users\\rospi\\AppData\\Local\\Packages\\PythonSoftwareFoundation.Python.3.11_qbz5n2kfra8p0\\LocalCache\\local-packages\\Python311\\site-packages\\langchain\\indexes\\vectorstore.py:171: UserWarning: Using InMemoryVectorStore as the default vectorstore.This memory store won't persist data. You should explicitlyspecify a vectorstore when using VectorstoreIndexCreator\n",
      "  warnings.warn(\n"
     ]
    }
   ],
   "source": [
    "from langchain_huggingface import HuggingFaceEmbeddings\n",
    "loader = CSVLoader(\n",
    "    file_path=file,\n",
    "    csv_args={\"delimiter\": \",\"},\n",
    "    encoding='utf-8-sig'  # <-- aggiunto qui\n",
    ")\n",
    "index = VectorstoreIndexCreator(embedding=HuggingFaceEmbeddings(model_name=\"all-MiniLM-L6-v2\", model_kwargs = {'device': 'cpu'})).from_loaders([loader])\n",
    "\n",
    "\n",
    "llm = ChatOpenAI(temperature= 0)\n",
    "qa_chain = RetrievalQA.from_chain_type(\n",
    "    llm,\n",
    "    retriever=index.vectorstore.as_retriever(),\n",
    "    return_source_documents=True,\n",
    ")"
   ]
  },
  {
   "cell_type": "code",
   "execution_count": 20,
   "id": "f0449cae-de25-4ef6-ae64-78ccf5e06a5a",
   "metadata": {
    "tags": []
   },
   "outputs": [
    {
     "data": {
      "text/plain": [
       "'New York City was named in honor of the Duke of York, who would become King James II of England. It was named in 1664 when England seized the city from Dutch control.'"
      ]
     },
     "execution_count": 20,
     "metadata": {},
     "output_type": "execute_result"
    }
   ],
   "source": [
    "# testing it out\n",
    "\n",
    "question = \"How did New York City get its name?\"\n",
    "result = qa_chain.invoke({\"query\": question})\n",
    "result[\"result\"]"
   ]
  },
  {
   "cell_type": "code",
   "execution_count": 21,
   "id": "9e846b3d-f79f-46eb-8075-c816268c0500",
   "metadata": {
    "tags": []
   },
   "outputs": [
    {
     "data": {
      "text/plain": [
       "{'query': 'How did New York City get its name?',\n",
       " 'result': 'New York City was named in honor of the Duke of York, who would become King James II of England. It was named in 1664 when England seized the city from Dutch control.',\n",
       " 'source_documents': [Document(id='bed1c94f-b78c-4a00-a165-bbeba705dc60', metadata={'source': 'c:\\\\Users\\\\rospi\\\\Desktop\\\\Ironhack\\\\lab-langchain-evaluation\\\\data\\\\nyc_text.txt', 'row': 0}, page_content=\"804: the Duke of York. The city was regained by the Dutch in July 1673 and was renamed New Orange for one year and three months; the city has been continuously named New York since November 1674. New York City was the capital of the United States from 1785 until 1790\\n190 distributed over 300.46 square miles (778.2 km2): and has been the largest U.S. city since 1790. The Statue of Liberty greeted millions of immigrants as they came to the U.S. by ship in the late 19th and early 20th centuries\\nNew York City is the most densely populated major city in the United States and more than twice as populous as Los Angeles: and is a symbol of the U.S. and its ideals of liberty and peace. In the 21st century\\nthe nation's second-largest city. New York City is located at the southern tip of New York State. It constitutes the geographical and demographic center of both the Northeast megalopolis and the New York metropolitan area: New York City has emerged as a global node of creativity\"),\n",
       "  Document(id='f35c6ed2-4de3-4c7f-8a29-eaa28589c644', metadata={'source': 'c:\\\\Users\\\\rospi\\\\Desktop\\\\Ironhack\\\\lab-langchain-evaluation\\\\data\\\\nyc_text.txt', 'row': 2}, page_content=\"New York: In 1664\\noften called New York City or NYC: New York was named in honor of the Duke of York\\nis the most populous city in the United States. With a 2020 population of 8: who would become King James II of England. James's elder brother\\n804: King Charles II\\n190 distributed over 300.46 square miles (778.2 km2): appointed the Duke as proprietor of the former territory of New Netherland\\nNew York City is the most densely populated major city in the United States and more than twice as populous as Los Angeles: including the city of New Amsterdam\\nthe nation's second-largest city. New York City is located at the southern tip of New York State. It constitutes the geographical and demographic center of both the Northeast megalopolis and the New York metropolitan area: when England seized it from Dutch control.\"),\n",
       "  Document(id='cabc1a79-d05d-45d0-92fc-294a2b89975d', metadata={'source': 'c:\\\\Users\\\\rospi\\\\Desktop\\\\Ironhack\\\\lab-langchain-evaluation\\\\data\\\\nyc_text.txt', 'row': 6}, page_content='New York: The first non–Native American inhabitant of what would eventually become New York City was Juan Rodriguez (transliterated to the Dutch language as Jan Rodrigues)\\noften called New York City or NYC: a merchant from Santo Domingo. Born in Santo Domingo of Portuguese and African descent\\nis the most populous city in the United States. With a 2020 population of 8: he arrived in Manhattan during the winter of 1613–14\\n804: trapping for pelts and trading with the local population as a representative of the Dutch. Broadway\\n190 distributed over 300.46 square miles (778.2 km2): from 159th Street to 218th Street in Upper Manhattan\\nNew York City is the most densely populated major city in the United States and more than twice as populous as Los Angeles: is named Juan Rodriguez Way in his honor.'),\n",
       "  Document(id='a19b1456-3e93-4bb5-a29e-f224a6525aab', metadata={'source': 'c:\\\\Users\\\\rospi\\\\Desktop\\\\Ironhack\\\\lab-langchain-evaluation\\\\data\\\\nyc_text.txt', 'row': 8}, page_content='New York: A permanent European presence near New York Harbor was established in 1624\\noften called New York City or NYC: making New York the 12th-oldest continuously occupied European-established settlement in the continental United States—with the founding of a Dutch fur trading settlement on Governors Island. In 1625\\nis the most populous city in the United States. With a 2020 population of 8: construction was started on a citadel and Fort Amsterdam\\n804: later called Nieuw Amsterdam (New Amsterdam)\\n190 distributed over 300.46 square miles (778.2 km2): on present-day Manhattan Island. The colony of New Amsterdam was centered on what would ultimately be known as Lower Manhattan. Its area extended from the southern tip of Manhattan to modern day Wall Street\\nNew York City is the most densely populated major city in the United States and more than twice as populous as Los Angeles: where a 12-foot wooden stockade was built in 1653 to protect against Native American and British raids. In 1626')]}"
      ]
     },
     "execution_count": 21,
     "metadata": {},
     "output_type": "execute_result"
    }
   ],
   "source": [
    "result"
   ]
  },
  {
   "cell_type": "markdown",
   "id": "069d9da8-a593-4fc6-9d4b-fea2af6bdfd0",
   "metadata": {},
   "source": [
    "Now in order to evaluate the qa system we generated a few relevant questions. We've generated a few question for you but feel free to add any you want."
   ]
  },
  {
   "cell_type": "code",
   "execution_count": 23,
   "id": "a2e2cade-0005-41c1-b775-c6a7175bcf3b",
   "metadata": {
    "tags": []
   },
   "outputs": [],
   "source": [
    "eval_questions = [\n",
    "    \"What is the population of New York City as of 2020?\",\n",
    "    \"Which borough of New York City has the highest population?\",\n",
    "    \"What is the economic significance of New York City?\",\n",
    "    \"How did New York City get its name?\",\n",
    "    \"What is the significance of the Statue of Liberty in New York City?\",\n",
    "]\n",
    "\n",
    "eval_answers = [\n",
    "    \"8,804,190\",\n",
    "    \"Brooklyn\",\n",
    "    \"New York City's economic significance is vast, as it serves as the global financial capital, housing Wall Street and major financial institutions. Its diverse economy spans technology, media, healthcare, education, and more, making it resilient to economic fluctuations. NYC is a hub for international business, attracting global companies, and boasts a large, skilled labor force. Its real estate market, tourism, cultural industries, and educational institutions further fuel its economic prowess. The city's transportation network and global influence amplify its impact on the world stage, solidifying its status as a vital economic player and cultural epicenter.\",\n",
    "    \"New York City got its name when it came under British control in 1664. King Charles II of England granted the lands to his brother, the Duke of York, who named the city New York in his own honor.\",\n",
    "    \"The Statue of Liberty in New York City holds great significance as a symbol of the United States and its ideals of liberty and peace. It greeted millions of immigrants who arrived in the U.S. by ship in the late 19th and early 20th centuries, representing hope and freedom for those seeking a better life. It has since become an iconic landmark and a global symbol of cultural diversity and freedom.\",\n",
    "]\n",
    "\n",
    "examples = [\n",
    "    {\"query\": q, \"ground_truths\": [eval_answers[i]]}\n",
    "    for i, q in enumerate(eval_questions)\n",
    "]"
   ]
  },
  {
   "cell_type": "code",
   "execution_count": 49,
   "id": "aac9358e-f8bc-4992-aea3-c83160ff0ab0",
   "metadata": {
    "tags": []
   },
   "outputs": [
    {
     "data": {
      "text/plain": [
       "[{'query': 'What is the population of New York City as of 2020?',\n",
       "  'ground_truths': ['8,804,190']},\n",
       " {'query': 'Which borough of New York City has the highest population?',\n",
       "  'ground_truths': ['Brooklyn']},\n",
       " {'query': 'What is the economic significance of New York City?',\n",
       "  'ground_truths': [\"New York City's economic significance is vast, as it serves as the global financial capital, housing Wall Street and major financial institutions. Its diverse economy spans technology, media, healthcare, education, and more, making it resilient to economic fluctuations. NYC is a hub for international business, attracting global companies, and boasts a large, skilled labor force. Its real estate market, tourism, cultural industries, and educational institutions further fuel its economic prowess. The city's transportation network and global influence amplify its impact on the world stage, solidifying its status as a vital economic player and cultural epicenter.\"]},\n",
       " {'query': 'How did New York City get its name?',\n",
       "  'ground_truths': ['New York City got its name when it came under British control in 1664. King Charles II of England granted the lands to his brother, the Duke of York, who named the city New York in his own honor.']},\n",
       " {'query': 'What is the significance of the Statue of Liberty in New York City?',\n",
       "  'ground_truths': ['The Statue of Liberty in New York City holds great significance as a symbol of the United States and its ideals of liberty and peace. It greeted millions of immigrants who arrived in the U.S. by ship in the late 19th and early 20th centuries, representing hope and freedom for those seeking a better life. It has since become an iconic landmark and a global symbol of cultural diversity and freedom.']}]"
      ]
     },
     "execution_count": 49,
     "metadata": {},
     "output_type": "execute_result"
    }
   ],
   "source": [
    "examples"
   ]
  },
  {
   "cell_type": "markdown",
   "id": "6a21efe8-7c30-449a-9b8e-5b79778e305b",
   "metadata": {},
   "source": [
    "#### Introducing RagasEvaluatorChain"
   ]
  },
  {
   "cell_type": "markdown",
   "id": "139c2214-a6eb-4d4f-9403-7e1574b97a36",
   "metadata": {},
   "source": [
    "`RagasEvaluatorChain` creates a wrapper around the metrics ragas provides (documented [here](https://github.com/explodinggradients/ragas/blob/main/docs/metrics.md)), making it easier to run these evaluation with langchain and langsmith.\n",
    "\n",
    "The evaluator chain has the following APIs\n",
    "\n",
    "- `__call__()`: call the `RagasEvaluatorChain` directly on the result of a QA chain.\n",
    "- `evaluate()`: evaluate on a list of examples (with the input queries) and predictions (outputs from the QA chain). \n",
    "- `evaluate_run()`: method implemented that is called by langsmith evaluators to evaluate langsmith datasets.\n",
    "\n",
    "lets see each of them in action to learn more."
   ]
  },
  {
   "cell_type": "code",
   "execution_count": 24,
   "id": "022c8aae-fe5f-4274-b638-9209151b9491",
   "metadata": {
    "tags": []
   },
   "outputs": [
    {
     "data": {
      "text/plain": [
       "'The borough of Brooklyn has the highest population in New York City.'"
      ]
     },
     "execution_count": 24,
     "metadata": {},
     "output_type": "execute_result"
    }
   ],
   "source": [
    "result = qa_chain.invoke({\"query\": eval_questions[1]})\n",
    "result[\"result\"]"
   ]
  },
  {
   "cell_type": "code",
   "execution_count": 38,
   "id": "eae31c80-42c9-4b1f-95b3-c05ceadb103f",
   "metadata": {
    "tags": []
   },
   "outputs": [],
   "source": [
    "key_mapping = {\n",
    "    \"query\": \"question\",\n",
    "    \"result\": \"answer\",\n",
    "    \"source_documents\": \"contexts\"\n",
    "}\n",
    "\n",
    "result_updated = {}\n",
    "for old_key, new_key in key_mapping.items():\n",
    "    if old_key in result:\n",
    "        result_updated[new_key] = result[old_key]\n"
   ]
  },
  {
   "cell_type": "code",
   "execution_count": 39,
   "id": "ecd4dd9f-16d7-43d4-ac8e-6c5aa5e3f7b0",
   "metadata": {
    "tags": []
   },
   "outputs": [
    {
     "data": {
      "text/plain": [
       "{'question': 'Which borough of New York City has the highest population?',\n",
       " 'answer': 'The borough of Brooklyn has the highest population in New York City.',\n",
       " 'contexts': [Document(id='2244b72c-f7c9-4c2e-a4aa-83ac5a8f7463', metadata={'source': 'c:\\\\Users\\\\rospi\\\\Desktop\\\\Ironhack\\\\lab-langchain-evaluation\\\\data\\\\nyc_text.txt', 'row': 33}, page_content=\"New York: Manhattan Island is loosely divided into the Lower\\noften called New York City or NYC: Midtown\\nis the most populous city in the United States. With a 2020 population of 8: and Uptown regions. Uptown Manhattan is divided by Central Park into the Upper East Side and the Upper West Side\\n804: and above the park is Harlem\\n190 distributed over 300.46 square miles (778.2 km2): bordering the Bronx (Bronx County).\\nNew York City is the most densely populated major city in the United States and more than twice as populous as Los Angeles: None\\nthe nation's second-largest city. New York City is located at the southern tip of New York State. It constitutes the geographical and demographic center of both the Northeast megalopolis and the New York metropolitan area: None\\nthe largest metropolitan area in the U.S. by both population and urban area. With over 20.1 million people in its metropolitan statistical area and 23.5 million in its combined statistical area as of 2020: None\"),\n",
       "  Document(id='ece62c39-3f1a-4fa7-90cc-0c370200e33f', metadata={'source': 'c:\\\\Users\\\\rospi\\\\Desktop\\\\Ironhack\\\\lab-langchain-evaluation\\\\data\\\\nyc_text.txt', 'row': 30}, page_content=\"New York: If the boroughs were each independent cities\\noften called New York City or NYC: four of the boroughs (Brooklyn\\nis the most populous city in the United States. With a 2020 population of 8: Queens\\n804: Manhattan\\n190 distributed over 300.46 square miles (778.2 km2): and the Bronx) would be among the ten most populous cities in the United States (Staten Island would be ranked 37th as of 2020); these same boroughs are coterminous with the four most densely populated counties in the United States: New York (Manhattan)\\nNew York City is the most densely populated major city in the United States and more than twice as populous as Los Angeles: Kings (Brooklyn)\\nthe nation's second-largest city. New York City is located at the southern tip of New York State. It constitutes the geographical and demographic center of both the Northeast megalopolis and the New York metropolitan area: Bronx\"),\n",
       "  Document(id='dabb4a90-4367-467b-ad97-bd208455545e', metadata={'source': 'c:\\\\Users\\\\rospi\\\\Desktop\\\\Ironhack\\\\lab-langchain-evaluation\\\\data\\\\nyc_text.txt', 'row': 230}, page_content=\"New York: Belden\\noften called New York City or NYC: E. Porter (1849). New York\\nis the most populous city in the United States. With a 2020 population of 8: Past\\n804: Present\\n190 distributed over 300.46 square miles (778.2 km2): and Future: Comprising a History of the City of New York\\nNew York City is the most densely populated major city in the United States and more than twice as populous as Los Angeles: a Description of its Present Condition\\nthe nation's second-largest city. New York City is located at the southern tip of New York State. It constitutes the geographical and demographic center of both the Northeast megalopolis and the New York metropolitan area: and an Estimate of its Future Increase. New York: G.P. Putnam. From Google Books.\\nthe largest metropolitan area in the U.S. by both population and urban area. With over 20.1 million people in its metropolitan statistical area and 23.5 million in its combined statistical area as of 2020: None\"),\n",
       "  Document(id='7e5b4a95-3a5d-42f3-9498-a0add45a773e', metadata={'source': 'c:\\\\Users\\\\rospi\\\\Desktop\\\\Ironhack\\\\lab-langchain-evaluation\\\\data\\\\nyc_text.txt', 'row': 32}, page_content=\"New York: Manhattan (New York County) is the geographically smallest and most densely populated borough. It is home to Central Park and most of the city's skyscrapers\\noften called New York City or NYC: and is sometimes locally known as The City. Manhattan's population density of 72\\nis the most populous city in the United States. With a 2020 population of 8: 033 people per square mile (27\\n804: 812/km2) in 2015 makes it the highest of any county in the United States and higher than the density of any individual American city.Manhattan is the cultural\\n190 distributed over 300.46 square miles (778.2 km2): administrative\\nNew York City is the most densely populated major city in the United States and more than twice as populous as Los Angeles: and financial center of New York City and contains the headquarters of many major multinational corporations\")]}"
      ]
     },
     "execution_count": 39,
     "metadata": {},
     "output_type": "execute_result"
    }
   ],
   "source": [
    "result_updated"
   ]
  },
  {
   "cell_type": "code",
   "execution_count": 40,
   "id": "00d5cc30-d25e-41bd-8695-9246b73938bc",
   "metadata": {
    "tags": []
   },
   "outputs": [],
   "source": [
    "#!pip install --no-cache-dir recordclass"
   ]
  },
  {
   "cell_type": "code",
   "execution_count": 41,
   "id": "775d55d9-437d-40c4-bb5f-87c7b65fa567",
   "metadata": {
    "tags": []
   },
   "outputs": [],
   "source": [
    "#!pip install ragas==0.1.9"
   ]
  },
  {
   "cell_type": "code",
   "execution_count": 42,
   "id": "29b14c07-bf6c-4e86-ad1a-2a6c4d1a509d",
   "metadata": {
    "tags": []
   },
   "outputs": [],
   "source": [
    "from ragas.integrations.langchain import EvaluatorChain \n",
    "# from ragas import evaluate\n",
    "from ragas.metrics import (\n",
    "    faithfulness,\n",
    "    answer_relevancy,\n",
    "    context_relevancy,\n",
    "    context_recall,\n",
    ")\n",
    "\n",
    "# create evaluation chains\n",
    "faithfulness_chain   = EvaluatorChain(metric=faithfulness)\n",
    "answer_rel_chain     = EvaluatorChain(metric=answer_relevancy)\n",
    "context_rel_chain    = EvaluatorChain(metric=context_relevancy)\n",
    "context_recall_chain = EvaluatorChain(metric=context_recall)"
   ]
  },
  {
   "cell_type": "markdown",
   "id": "41a8b636-d738-41bd-ac68-21cce2c4b720",
   "metadata": {},
   "source": [
    "1. `__call__()`\n",
    "\n",
    "Directly run the evaluation chain with the results from the QA chain. Do note that metrics like context_relevancy and faithfulness require the `source_documents` to be present."
   ]
  },
  {
   "cell_type": "code",
   "execution_count": 43,
   "id": "7815671c-1fc8-46ba-8356-4a0bd5558530",
   "metadata": {},
   "outputs": [
    {
     "data": {
      "text/plain": [
       "{'query': 'Which borough of New York City has the highest population?',\n",
       " 'result': 'The borough of Brooklyn has the highest population in New York City.',\n",
       " 'source_documents': [Document(id='2244b72c-f7c9-4c2e-a4aa-83ac5a8f7463', metadata={'source': 'c:\\\\Users\\\\rospi\\\\Desktop\\\\Ironhack\\\\lab-langchain-evaluation\\\\data\\\\nyc_text.txt', 'row': 33}, page_content=\"New York: Manhattan Island is loosely divided into the Lower\\noften called New York City or NYC: Midtown\\nis the most populous city in the United States. With a 2020 population of 8: and Uptown regions. Uptown Manhattan is divided by Central Park into the Upper East Side and the Upper West Side\\n804: and above the park is Harlem\\n190 distributed over 300.46 square miles (778.2 km2): bordering the Bronx (Bronx County).\\nNew York City is the most densely populated major city in the United States and more than twice as populous as Los Angeles: None\\nthe nation's second-largest city. New York City is located at the southern tip of New York State. It constitutes the geographical and demographic center of both the Northeast megalopolis and the New York metropolitan area: None\\nthe largest metropolitan area in the U.S. by both population and urban area. With over 20.1 million people in its metropolitan statistical area and 23.5 million in its combined statistical area as of 2020: None\"),\n",
       "  Document(id='ece62c39-3f1a-4fa7-90cc-0c370200e33f', metadata={'source': 'c:\\\\Users\\\\rospi\\\\Desktop\\\\Ironhack\\\\lab-langchain-evaluation\\\\data\\\\nyc_text.txt', 'row': 30}, page_content=\"New York: If the boroughs were each independent cities\\noften called New York City or NYC: four of the boroughs (Brooklyn\\nis the most populous city in the United States. With a 2020 population of 8: Queens\\n804: Manhattan\\n190 distributed over 300.46 square miles (778.2 km2): and the Bronx) would be among the ten most populous cities in the United States (Staten Island would be ranked 37th as of 2020); these same boroughs are coterminous with the four most densely populated counties in the United States: New York (Manhattan)\\nNew York City is the most densely populated major city in the United States and more than twice as populous as Los Angeles: Kings (Brooklyn)\\nthe nation's second-largest city. New York City is located at the southern tip of New York State. It constitutes the geographical and demographic center of both the Northeast megalopolis and the New York metropolitan area: Bronx\"),\n",
       "  Document(id='dabb4a90-4367-467b-ad97-bd208455545e', metadata={'source': 'c:\\\\Users\\\\rospi\\\\Desktop\\\\Ironhack\\\\lab-langchain-evaluation\\\\data\\\\nyc_text.txt', 'row': 230}, page_content=\"New York: Belden\\noften called New York City or NYC: E. Porter (1849). New York\\nis the most populous city in the United States. With a 2020 population of 8: Past\\n804: Present\\n190 distributed over 300.46 square miles (778.2 km2): and Future: Comprising a History of the City of New York\\nNew York City is the most densely populated major city in the United States and more than twice as populous as Los Angeles: a Description of its Present Condition\\nthe nation's second-largest city. New York City is located at the southern tip of New York State. It constitutes the geographical and demographic center of both the Northeast megalopolis and the New York metropolitan area: and an Estimate of its Future Increase. New York: G.P. Putnam. From Google Books.\\nthe largest metropolitan area in the U.S. by both population and urban area. With over 20.1 million people in its metropolitan statistical area and 23.5 million in its combined statistical area as of 2020: None\"),\n",
       "  Document(id='7e5b4a95-3a5d-42f3-9498-a0add45a773e', metadata={'source': 'c:\\\\Users\\\\rospi\\\\Desktop\\\\Ironhack\\\\lab-langchain-evaluation\\\\data\\\\nyc_text.txt', 'row': 32}, page_content=\"New York: Manhattan (New York County) is the geographically smallest and most densely populated borough. It is home to Central Park and most of the city's skyscrapers\\noften called New York City or NYC: and is sometimes locally known as The City. Manhattan's population density of 72\\nis the most populous city in the United States. With a 2020 population of 8: 033 people per square mile (27\\n804: 812/km2) in 2015 makes it the highest of any county in the United States and higher than the density of any individual American city.Manhattan is the cultural\\n190 distributed over 300.46 square miles (778.2 km2): administrative\\nNew York City is the most densely populated major city in the United States and more than twice as populous as Los Angeles: and financial center of New York City and contains the headquarters of many major multinational corporations\")]}"
      ]
     },
     "execution_count": 43,
     "metadata": {},
     "output_type": "execute_result"
    }
   ],
   "source": [
    "# Recheck the result that we are going to validate.\n",
    "result"
   ]
  },
  {
   "cell_type": "markdown",
   "id": "8cfdd07c-956c-458f-8844-e056f29e3c83",
   "metadata": {},
   "source": [
    "**Faithfulness**"
   ]
  },
  {
   "cell_type": "code",
   "execution_count": 44,
   "id": "18956d98",
   "metadata": {},
   "outputs": [
    {
     "name": "stdout",
     "output_type": "stream",
     "text": [
      "Requirement already satisfied: nest_asyncio in c:\\users\\rospi\\appdata\\local\\packages\\pythonsoftwarefoundation.python.3.11_qbz5n2kfra8p0\\localcache\\local-packages\\python311\\site-packages (1.6.0)\n",
      "Note: you may need to restart the kernel to use updated packages.\n"
     ]
    },
    {
     "data": {
      "text/plain": [
       "0.0"
      ]
     },
     "execution_count": 44,
     "metadata": {},
     "output_type": "execute_result"
    }
   ],
   "source": [
    "%pip install nest_asyncio\n",
    "\n",
    "import nest_asyncio\n",
    "nest_asyncio.apply()\n",
    "\n",
    "# Convert Document objects in 'contexts' to strings\n",
    "result_fixed = result_updated.copy()\n",
    "result_fixed[\"contexts\"] = [doc.page_content for doc in result_fixed[\"contexts\"]]\n",
    "\n",
    "eval_result = faithfulness_chain(result_fixed)\n",
    "eval_result[\"faithfulness\"]\n"
   ]
  },
  {
   "cell_type": "code",
   "execution_count": 45,
   "id": "304f5f0f-a237-4584-becb-a35607caf26b",
   "metadata": {},
   "outputs": [
    {
     "name": "stderr",
     "output_type": "stream",
     "text": [
      "No statements were generated from the answer.\n"
     ]
    },
    {
     "data": {
      "text/plain": [
       "nan"
      ]
     },
     "execution_count": 45,
     "metadata": {},
     "output_type": "execute_result"
    }
   ],
   "source": [
    "# Prepare the input for faithfulness_chain with correct keys and format\n",
    "fake_result = result.copy()\n",
    "fake_result[\"result\"] = \"we are the champions\"\n",
    "\n",
    "# Map keys and convert source_documents to strings\n",
    "faithfulness_input = {\n",
    "\t\"question\": fake_result[\"query\"],\n",
    "\t\"answer\": fake_result[\"result\"],\n",
    "\t\"contexts\": [doc.page_content for doc in fake_result[\"source_documents\"]],\n",
    "}\n",
    "\n",
    "eval_result = faithfulness_chain(faithfulness_input)\n",
    "eval_result[\"faithfulness\"]"
   ]
  },
  {
   "cell_type": "markdown",
   "id": "8fbd78a9-d7c5-42a0-8705-4c544ec6408e",
   "metadata": {},
   "source": [
    "High faithfulness_score means that there are exact consistency between the source documents and the answer.\n",
    "\n",
    "You can check lower faithfulness scores by changing the result (answer from LLM) or source_documents to something else."
   ]
  },
  {
   "cell_type": "code",
   "execution_count": 46,
   "id": "15f42b97-a84f-4015-9da5-fa3b0b703c24",
   "metadata": {},
   "outputs": [
    {
     "name": "stderr",
     "output_type": "stream",
     "text": [
      "No statements were generated from the answer.\n"
     ]
    },
    {
     "data": {
      "text/plain": [
       "nan"
      ]
     },
     "execution_count": 46,
     "metadata": {},
     "output_type": "execute_result"
    }
   ],
   "source": [
    "# Prepare the input for faithfulness_chain with correct keys and format\n",
    "fake_result = result.copy()\n",
    "fake_result[\"result\"] = \"we are the champions\"\n",
    "\n",
    "# Map keys and convert source_documents to strings\n",
    "faithfulness_input = {\n",
    "\t\"question\": fake_result[\"query\"],\n",
    "\t\"answer\": fake_result[\"result\"],\n",
    "\t\"contexts\": [doc.page_content for doc in fake_result[\"source_documents\"]],\n",
    "}\n",
    "\n",
    "eval_result = faithfulness_chain(faithfulness_input)\n",
    "eval_result[\"faithfulness\"]"
   ]
  },
  {
   "cell_type": "markdown",
   "id": "02348380-159a-4578-a95e-493cdcfcebe7",
   "metadata": {},
   "source": [
    "**Context Relevancy**"
   ]
  },
  {
   "cell_type": "code",
   "execution_count": 47,
   "id": "0fd2fb9e-19d1-4cf6-9773-897546c2d6bb",
   "metadata": {},
   "outputs": [
    {
     "data": {
      "text/plain": [
       "0.2"
      ]
     },
     "execution_count": 47,
     "metadata": {},
     "output_type": "execute_result"
    }
   ],
   "source": [
    "# Prepare the input for context_recall_chain with correct keys and format\n",
    "context_recall_input = {\n",
    "\t\"question\": result[\"query\"],\n",
    "\t\"answer\": result[\"result\"],\n",
    "\t\"contexts\": [doc.page_content for doc in result[\"source_documents\"]],\n",
    "\t\"ground_truth\": \"\"  # Provide the ground truth answer if available, else leave as empty string\n",
    "}\n",
    "\n",
    "eval_result = context_recall_chain(context_recall_input)\n",
    "eval_result[\"context_recall\"]"
   ]
  },
  {
   "cell_type": "markdown",
   "id": "118cba80-c2a3-408e-9d8d-857521cbe723",
   "metadata": {},
   "source": [
    "High context_recall_score means that the ground truth is present in the source documents.\n",
    "\n",
    "You can check lower context recall scores by changing the source_documents to something else."
   ]
  },
  {
   "cell_type": "code",
   "execution_count": 48,
   "id": "f6610c5f-5f8e-406c-885c-093012a5dc44",
   "metadata": {},
   "outputs": [
    {
     "data": {
      "text/plain": [
       "0.0"
      ]
     },
     "execution_count": 48,
     "metadata": {},
     "output_type": "execute_result"
    }
   ],
   "source": [
    "# Prepare the input with correct keys and format for context_recall_chain\n",
    "fake_result = {\n",
    "\t\"question\": result[\"query\"],\n",
    "\t\"answer\": result[\"result\"],\n",
    "\t\"contexts\": [\"I love christmas\"],\n",
    "\t\"ground_truth\": \"\"  # or provide the actual ground truth if available\n",
    "}\n",
    "eval_result = context_recall_chain(fake_result)\n",
    "eval_result[\"context_recall\"]"
   ]
  },
  {
   "cell_type": "markdown",
   "id": "3dc06403-c514-47fd-ac82-d95ece8d2f06",
   "metadata": {},
   "source": [
    "2. `evaluate()`\n",
    "\n",
    "Evaluate a list of inputs/queries and the outputs/predictions from the QA chain."
   ]
  },
  {
   "cell_type": "code",
   "execution_count": 49,
   "id": "f6b23708-b94d-4649-acd9-0e268f72f94a",
   "metadata": {},
   "outputs": [
    {
     "name": "stdout",
     "output_type": "stream",
     "text": [
      "evaluating...\n"
     ]
    },
    {
     "data": {
      "text/plain": [
       "[{'question': 'What is the population of New York City as of 2020?',\n",
       "  'answer': 'The population of New York City as of 2020 was 8,804,190 residents.',\n",
       "  'contexts': [\"New York: In 2020\\noften called New York City or NYC: the city had an estimated population density of 29\\nis the most populous city in the United States. With a 2020 population of 8: 302.37 inhabitants per square mile (11\\n804: 313.71/km2)\\n190 distributed over 300.46 square miles (778.2 km2): rendering it the nation's most densely populated of all larger municipalities (those with more than 100\\nNew York City is the most densely populated major city in the United States and more than twice as populous as Los Angeles: 000 residents)\\nthe nation's second-largest city. New York City is located at the southern tip of New York State. It constitutes the geographical and demographic center of both the Northeast megalopolis and the New York metropolitan area: with several small cities (of fewer than 100\",\n",
       "   'New York: New York City is the most populous city in the United States\\noften called New York City or NYC: with 8\\nis the most populous city in the United States. With a 2020 population of 8: 804\\n804: 190 residents incorporating more immigration into the city than outmigration since the 2010 United States census. More than twice as many people live in New York City as compared to Los Angeles\\n190 distributed over 300.46 square miles (778.2 km2): the second-most populous U.S. city; and New York has more than three times the population of Chicago\\nNew York City is the most densely populated major city in the United States and more than twice as populous as Los Angeles: the third-most populous U.S. city. New York City gained more residents between 2010 and 2020 (629',\n",
       "   \"New York: The present mayor is Eric Adams. He was elected in 2021 with 67% of the vote\\noften called New York City or NYC: and assumed office on January 1\\nis the most populous city in the United States. With a 2020 population of 8: 2022.\\n804: None\\n190 distributed over 300.46 square miles (778.2 km2): None\\nNew York City is the most densely populated major city in the United States and more than twice as populous as Los Angeles: None\\nthe nation's second-largest city. New York City is located at the southern tip of New York State. It constitutes the geographical and demographic center of both the Northeast megalopolis and the New York metropolitan area: None\\nthe largest metropolitan area in the U.S. by both population and urban area. With over 20.1 million people in its metropolitan statistical area and 23.5 million in its combined statistical area as of 2020: None\\nNew York is one of the world's most populous megacities: None\",\n",
       "   \"New York: Belden\\noften called New York City or NYC: E. Porter (1849). New York\\nis the most populous city in the United States. With a 2020 population of 8: Past\\n804: Present\\n190 distributed over 300.46 square miles (778.2 km2): and Future: Comprising a History of the City of New York\\nNew York City is the most densely populated major city in the United States and more than twice as populous as Los Angeles: a Description of its Present Condition\\nthe nation's second-largest city. New York City is located at the southern tip of New York State. It constitutes the geographical and demographic center of both the Northeast megalopolis and the New York metropolitan area: and an Estimate of its Future Increase. New York: G.P. Putnam. From Google Books.\\nthe largest metropolitan area in the U.S. by both population and urban area. With over 20.1 million people in its metropolitan statistical area and 23.5 million in its combined statistical area as of 2020: None\"],\n",
       "  'faithfulness': 1.0},\n",
       " {'question': 'Which borough of New York City has the highest population?',\n",
       "  'answer': 'The borough of Brooklyn has the highest population in New York City.',\n",
       "  'contexts': [\"New York: Manhattan Island is loosely divided into the Lower\\noften called New York City or NYC: Midtown\\nis the most populous city in the United States. With a 2020 population of 8: and Uptown regions. Uptown Manhattan is divided by Central Park into the Upper East Side and the Upper West Side\\n804: and above the park is Harlem\\n190 distributed over 300.46 square miles (778.2 km2): bordering the Bronx (Bronx County).\\nNew York City is the most densely populated major city in the United States and more than twice as populous as Los Angeles: None\\nthe nation's second-largest city. New York City is located at the southern tip of New York State. It constitutes the geographical and demographic center of both the Northeast megalopolis and the New York metropolitan area: None\\nthe largest metropolitan area in the U.S. by both population and urban area. With over 20.1 million people in its metropolitan statistical area and 23.5 million in its combined statistical area as of 2020: None\",\n",
       "   \"New York: If the boroughs were each independent cities\\noften called New York City or NYC: four of the boroughs (Brooklyn\\nis the most populous city in the United States. With a 2020 population of 8: Queens\\n804: Manhattan\\n190 distributed over 300.46 square miles (778.2 km2): and the Bronx) would be among the ten most populous cities in the United States (Staten Island would be ranked 37th as of 2020); these same boroughs are coterminous with the four most densely populated counties in the United States: New York (Manhattan)\\nNew York City is the most densely populated major city in the United States and more than twice as populous as Los Angeles: Kings (Brooklyn)\\nthe nation's second-largest city. New York City is located at the southern tip of New York State. It constitutes the geographical and demographic center of both the Northeast megalopolis and the New York metropolitan area: Bronx\",\n",
       "   \"New York: Belden\\noften called New York City or NYC: E. Porter (1849). New York\\nis the most populous city in the United States. With a 2020 population of 8: Past\\n804: Present\\n190 distributed over 300.46 square miles (778.2 km2): and Future: Comprising a History of the City of New York\\nNew York City is the most densely populated major city in the United States and more than twice as populous as Los Angeles: a Description of its Present Condition\\nthe nation's second-largest city. New York City is located at the southern tip of New York State. It constitutes the geographical and demographic center of both the Northeast megalopolis and the New York metropolitan area: and an Estimate of its Future Increase. New York: G.P. Putnam. From Google Books.\\nthe largest metropolitan area in the U.S. by both population and urban area. With over 20.1 million people in its metropolitan statistical area and 23.5 million in its combined statistical area as of 2020: None\",\n",
       "   \"New York: Manhattan (New York County) is the geographically smallest and most densely populated borough. It is home to Central Park and most of the city's skyscrapers\\noften called New York City or NYC: and is sometimes locally known as The City. Manhattan's population density of 72\\nis the most populous city in the United States. With a 2020 population of 8: 033 people per square mile (27\\n804: 812/km2) in 2015 makes it the highest of any county in the United States and higher than the density of any individual American city.Manhattan is the cultural\\n190 distributed over 300.46 square miles (778.2 km2): administrative\\nNew York City is the most densely populated major city in the United States and more than twice as populous as Los Angeles: and financial center of New York City and contains the headquarters of many major multinational corporations\"],\n",
       "  'faithfulness': 0.0},\n",
       " {'question': 'What is the economic significance of New York City?',\n",
       "  'answer': 'New York City is a global economic powerhouse with a gross metropolitan product of over $2.4 trillion, making it the largest metropolitan economy in the world. If New York City were a sovereign state, it would have the eighth-largest economy globally. The city is a safe haven for global investors and is home to the highest number of billionaires, individuals of ultra-high net worth, and millionaires of any city in the world. Additionally, New York City is a world center for industry, commerce, and communication, making it a crucial hub for various economic activities.',\n",
       "  'contexts': ['New York City comprises five boroughs: None\\neach of which is coextensive with a respective county of the state of New York. The five boroughs: None\\nwhich were created in 1898 when local governments were consolidated into a single municipal entity: None\\nare: Brooklyn (in Kings County): None\\nQueens (in Queens County): None\\nManhattan (in New York County): None\\nThe Bronx (in Bronx County): None\\nand Staten Island (in Richmond County).As of 2021: None\\nthe New York metropolitan area is the largest metropolitan economy in the world with a gross metropolitan product of over $2.4 trillion. If the New York metropolitan area were a sovereign state: None\\nit would have the eighth-largest economy in the world. New York City is an established safe haven for global investors. New York is home to the highest number of billionaires: None\\nindividuals of ultra-high net worth (greater than US$30 million): None\\nand millionaires of any city in the world.: None',\n",
       "   \"804: the Duke of York. The city was regained by the Dutch in July 1673 and was renamed New Orange for one year and three months; the city has been continuously named New York since November 1674. New York City was the capital of the United States from 1785 until 1790\\n190 distributed over 300.46 square miles (778.2 km2): and has been the largest U.S. city since 1790. The Statue of Liberty greeted millions of immigrants as they came to the U.S. by ship in the late 19th and early 20th centuries\\nNew York City is the most densely populated major city in the United States and more than twice as populous as Los Angeles: and is a symbol of the U.S. and its ideals of liberty and peace. In the 21st century\\nthe nation's second-largest city. New York City is located at the southern tip of New York State. It constitutes the geographical and demographic center of both the Northeast megalopolis and the New York metropolitan area: New York City has emerged as a global node of creativity\",\n",
       "   \"New York: New York has architecturally noteworthy buildings in a wide range of styles and from distinct time periods\\noften called New York City or NYC: from the Dutch Colonial Pieter Claesen Wyckoff House in Brooklyn\\nis the most populous city in the United States. With a 2020 population of 8: the oldest section of which dates to 1656\\n804: to the modern One World Trade Center\\n190 distributed over 300.46 square miles (778.2 km2): the skyscraper at Ground Zero in Lower Manhattan and the most expensive office tower in the world by construction cost.Manhattan's skyline\\nNew York City is the most densely populated major city in the United States and more than twice as populous as Los Angeles: with its many skyscrapers\\nthe nation's second-largest city. New York City is located at the southern tip of New York State. It constitutes the geographical and demographic center of both the Northeast megalopolis and the New York metropolitan area: is universally recognized\",\n",
       "   'each of which is coextensive with a respective county of the state of New York. The five boroughs: the city became a world center for industry\\nwhich were created in 1898 when local governments were consolidated into a single municipal entity: commerce\\nare: Brooklyn (in Kings County): and communication.\\nQueens (in Queens County): None\\nManhattan (in New York County): None\\nThe Bronx (in Bronx County): None\\nand Staten Island (in Richmond County).As of 2021: None\\nthe New York metropolitan area is the largest metropolitan economy in the world with a gross metropolitan product of over $2.4 trillion. If the New York metropolitan area were a sovereign state: None\\nit would have the eighth-largest economy in the world. New York City is an established safe haven for global investors. New York is home to the highest number of billionaires: None\\nindividuals of ultra-high net worth (greater than US$30 million): None\\nand millionaires of any city in the world.: None'],\n",
       "  'faithfulness': 1.0},\n",
       " {'question': 'How did New York City get its name?',\n",
       "  'answer': 'New York City was named in honor of the Duke of York, who would become King James II of England. King Charles II appointed the Duke as proprietor of the former territory of New Netherland, including the city of New Amsterdam, when England seized it from Dutch control in 1664.',\n",
       "  'contexts': [\"804: the Duke of York. The city was regained by the Dutch in July 1673 and was renamed New Orange for one year and three months; the city has been continuously named New York since November 1674. New York City was the capital of the United States from 1785 until 1790\\n190 distributed over 300.46 square miles (778.2 km2): and has been the largest U.S. city since 1790. The Statue of Liberty greeted millions of immigrants as they came to the U.S. by ship in the late 19th and early 20th centuries\\nNew York City is the most densely populated major city in the United States and more than twice as populous as Los Angeles: and is a symbol of the U.S. and its ideals of liberty and peace. In the 21st century\\nthe nation's second-largest city. New York City is located at the southern tip of New York State. It constitutes the geographical and demographic center of both the Northeast megalopolis and the New York metropolitan area: New York City has emerged as a global node of creativity\",\n",
       "   \"New York: In 1664\\noften called New York City or NYC: New York was named in honor of the Duke of York\\nis the most populous city in the United States. With a 2020 population of 8: who would become King James II of England. James's elder brother\\n804: King Charles II\\n190 distributed over 300.46 square miles (778.2 km2): appointed the Duke as proprietor of the former territory of New Netherland\\nNew York City is the most densely populated major city in the United States and more than twice as populous as Los Angeles: including the city of New Amsterdam\\nthe nation's second-largest city. New York City is located at the southern tip of New York State. It constitutes the geographical and demographic center of both the Northeast megalopolis and the New York metropolitan area: when England seized it from Dutch control.\",\n",
       "   'New York: The first non–Native American inhabitant of what would eventually become New York City was Juan Rodriguez (transliterated to the Dutch language as Jan Rodrigues)\\noften called New York City or NYC: a merchant from Santo Domingo. Born in Santo Domingo of Portuguese and African descent\\nis the most populous city in the United States. With a 2020 population of 8: he arrived in Manhattan during the winter of 1613–14\\n804: trapping for pelts and trading with the local population as a representative of the Dutch. Broadway\\n190 distributed over 300.46 square miles (778.2 km2): from 159th Street to 218th Street in Upper Manhattan\\nNew York City is the most densely populated major city in the United States and more than twice as populous as Los Angeles: is named Juan Rodriguez Way in his honor.',\n",
       "   'New York: A permanent European presence near New York Harbor was established in 1624\\noften called New York City or NYC: making New York the 12th-oldest continuously occupied European-established settlement in the continental United States—with the founding of a Dutch fur trading settlement on Governors Island. In 1625\\nis the most populous city in the United States. With a 2020 population of 8: construction was started on a citadel and Fort Amsterdam\\n804: later called Nieuw Amsterdam (New Amsterdam)\\n190 distributed over 300.46 square miles (778.2 km2): on present-day Manhattan Island. The colony of New Amsterdam was centered on what would ultimately be known as Lower Manhattan. Its area extended from the southern tip of Manhattan to modern day Wall Street\\nNew York City is the most densely populated major city in the United States and more than twice as populous as Los Angeles: where a 12-foot wooden stockade was built in 1653 to protect against Native American and British raids. In 1626'],\n",
       "  'faithfulness': 1.0},\n",
       " {'question': 'What is the significance of the Statue of Liberty in New York City?',\n",
       "  'answer': 'The Statue of Liberty in New York City is a symbol of the United States and its ideals of liberty and peace. It greeted millions of immigrants as they came to the U.S. by ship in the late 19th and early 20th centuries. Additionally, the Statue of Liberty is part of the Statue of Liberty National Monument, managed by the National Park Service, and is a historic landmark representing freedom and democracy.',\n",
       "  'contexts': [\"804: the Duke of York. The city was regained by the Dutch in July 1673 and was renamed New Orange for one year and three months; the city has been continuously named New York since November 1674. New York City was the capital of the United States from 1785 until 1790\\n190 distributed over 300.46 square miles (778.2 km2): and has been the largest U.S. city since 1790. The Statue of Liberty greeted millions of immigrants as they came to the U.S. by ship in the late 19th and early 20th centuries\\nNew York City is the most densely populated major city in the United States and more than twice as populous as Los Angeles: and is a symbol of the U.S. and its ideals of liberty and peace. In the 21st century\\nthe nation's second-largest city. New York City is located at the southern tip of New York State. It constitutes the geographical and demographic center of both the Northeast megalopolis and the New York metropolitan area: New York City has emerged as a global node of creativity\",\n",
       "   \"New York: The Statue of Liberty National Monument and Ellis Island Immigration Museum are managed by the National Park Service and are in both New York and New Jersey. They are joined in the harbor by Governors Island National Monument. Historic sites under federal management on Manhattan Island include Stonewall National Monument; Castle Clinton National Monument; Federal Hall National Memorial; Theodore Roosevelt Birthplace National Historic Site; General Grant National Memorial (Grant's Tomb); African Burial Ground National Monument; and Hamilton Grange National Memorial. Hundreds of properties are listed on the National Register of Historic Places or as a National Historic Landmark.\\noften called New York City or NYC: None\\nis the most populous city in the United States. With a 2020 population of 8: None\\n804: None\\n190 distributed over 300.46 square miles (778.2 km2): None\",\n",
       "   \"art: attracting tens of thousands of participants and millions of sidewalk spectators each June. The annual Queens Pride Parade is held in Jackson Heights and is accompanied by the ensuing Multicultural Parade.Stonewall 50 – WorldPride NYC 2019 was the largest international Pride celebration in history\\nfashion: produced by Heritage of Pride and enhanced through a partnership with the I ❤ NY program's LGBT division\\nand sports. Home to the headquarters of the United Nations: commemorating the 50th anniversary of the Stonewall uprising\\nNew York is an important center for international diplomacy: with 150\\nand is sometimes described as the capital of the world.Situated on one of the world's largest natural harbors and extending into the Atlantic Ocean: 000 participants and five million spectators attending in Manhattan alone. New York City is also home to the largest transgender population in the world\\nNew York City comprises five boroughs: estimated at more than 50\",\n",
       "   \"New York: In Staten Island\\noften called New York City or NYC: the Conference House Park contains the historic Conference House\\nis the most populous city in the United States. With a 2020 population of 8: site of the only attempt of a peaceful resolution to the American Revolution which was conducted in September 1775\\n804: attended by Benjamin Franklin representing the Americans and Lord Howe representing the British Crown. The historic Burial Ridge\\n190 distributed over 300.46 square miles (778.2 km2): the largest Native American burial ground within New York City\\nNew York City is the most densely populated major city in the United States and more than twice as populous as Los Angeles: is within the park.\\nthe nation's second-largest city. New York City is located at the southern tip of New York State. It constitutes the geographical and demographic center of both the Northeast megalopolis and the New York metropolitan area: None\"],\n",
       "  'faithfulness': 1.0}]"
      ]
     },
     "execution_count": 49,
     "metadata": {},
     "output_type": "execute_result"
    }
   ],
   "source": [
    "# run the queries as a batch for efficiency\n",
    "predictions = qa_chain.batch(examples)\n",
    "\n",
    "# evaluate each example/prediction pair using the faithfulness_chain\n",
    "print(\"evaluating...\")\n",
    "\n",
    "def prepare_faithfulness_input(example, prediction):\n",
    "\treturn {\n",
    "\t\t\"question\": example[\"query\"],\n",
    "\t\t\"answer\": prediction[\"result\"],\n",
    "\t\t\"contexts\": [doc.page_content for doc in prediction[\"source_documents\"]],\n",
    "\t}\n",
    "\n",
    "results = [faithfulness_chain(prepare_faithfulness_input(ex, pred)) for ex, pred in zip(examples, predictions)]\n",
    "results"
   ]
  },
  {
   "cell_type": "code",
   "execution_count": null,
   "id": "d661f6b9-04c7-40b7-874b-25f53cfab9d9",
   "metadata": {},
   "outputs": [
    {
     "name": "stdout",
     "output_type": "stream",
     "text": [
      "evaluating...\n"
     ]
    }
   ],
   "source": [
    "# evaluate context recall\n",
    "print(\"evaluating...\")\n",
    "r = [context_recall_chain({\n",
    "\t\"question\": ex[\"query\"],\n",
    "\t\"answer\": pred[\"result\"],\n",
    "\t\"contexts\": [doc.page_content for doc in pred[\"source_documents\"]],\n",
    "\t\"ground_truth\": ex[\"ground_truths\"][0] if \"ground_truths\" in ex and ex[\"ground_truths\"] else \"\"\n",
    "}) for ex, pred in zip(examples, predictions)]\n",
    "r"
   ]
  },
  {
   "cell_type": "code",
   "execution_count": null,
   "id": "52b5647a",
   "metadata": {},
   "outputs": [],
   "source": []
  }
 ],
 "metadata": {
  "kernelspec": {
   "display_name": "Python 3",
   "language": "python",
   "name": "python3"
  },
  "language_info": {
   "codemirror_mode": {
    "name": "ipython",
    "version": 3
   },
   "file_extension": ".py",
   "mimetype": "text/x-python",
   "name": "python",
   "nbconvert_exporter": "python",
   "pygments_lexer": "ipython3",
   "version": "3.11.9"
  }
 },
 "nbformat": 4,
 "nbformat_minor": 5
}
